{
 "cells": [
  {
   "cell_type": "markdown",
   "metadata": {
    "papermill": {
     "duration": 0.045698,
     "end_time": "2020-11-11T09:40:02.209459",
     "exception": false,
     "start_time": "2020-11-11T09:40:02.163761",
     "status": "completed"
    },
    "tags": []
   },
   "source": [
    "# import packages and some config"
   ]
  },
  {
   "cell_type": "code",
   "execution_count": 1,
   "metadata": {
    "execution": {
     "iopub.execute_input": "2020-11-11T09:40:02.303581Z",
     "iopub.status.busy": "2020-11-11T09:40:02.302831Z",
     "iopub.status.idle": "2020-11-11T09:40:04.465104Z",
     "shell.execute_reply": "2020-11-11T09:40:04.464029Z"
    },
    "papermill": {
     "duration": 2.211937,
     "end_time": "2020-11-11T09:40:04.465232",
     "exception": false,
     "start_time": "2020-11-11T09:40:02.253295",
     "status": "completed"
    },
    "tags": []
   },
   "outputs": [],
   "source": [
    "import os\n",
    "import pandas as pd\n",
    "from torchvision.transforms.functional import to_pil_image\n",
    "import matplotlib.pylab as plt\n",
    "from torch.utils.data import Dataset, DataLoader\n",
    "import torch\n",
    "import numpy as np\n",
    "import random\n",
    "from sklearn.model_selection import StratifiedShuffleSplit\n",
    "from torchvision import models\n",
    "from torch import nn\n",
    "import torch.nn.functional as F\n",
    "from tqdm import tqdm\n",
    "import torchvision.transforms as transforms\n",
    "from PIL import Image\n",
    "torch.set_anomaly_enabled(True)\n",
    "\n",
    "\n",
    "np.random.seed(42)\n",
    "random.seed(42)\n",
    "torch.manual_seed(42)\n",
    "torch.cuda.manual_seed_all(42)\n",
    "torch.backends.cudnn.deterministic = True"
   ]
  },
  {
   "cell_type": "code",
   "execution_count": 2,
   "metadata": {
    "execution": {
     "iopub.execute_input": "2020-11-11T09:40:04.552710Z",
     "iopub.status.busy": "2020-11-11T09:40:04.551913Z",
     "iopub.status.idle": "2020-11-11T09:40:04.554821Z",
     "shell.execute_reply": "2020-11-11T09:40:04.554340Z"
    },
    "papermill": {
     "duration": 0.048083,
     "end_time": "2020-11-11T09:40:04.554919",
     "exception": false,
     "start_time": "2020-11-11T09:40:04.506836",
     "status": "completed"
    },
    "tags": []
   },
   "outputs": [],
   "source": [
    "def denormalize(x_, mean, std):\n",
    "    x = x_.clone()\n",
    "    for i in range(3):\n",
    "        x[i] = x[i]*std[i]+mean[i]\n",
    "    x = to_pil_image(x)\n",
    "    return x"
   ]
  },
  {
   "cell_type": "code",
   "execution_count": 3,
   "metadata": {
    "execution": {
     "iopub.execute_input": "2020-11-11T09:40:04.638484Z",
     "iopub.status.busy": "2020-11-11T09:40:04.637827Z",
     "iopub.status.idle": "2020-11-11T09:40:04.646004Z",
     "shell.execute_reply": "2020-11-11T09:40:04.646501Z"
    },
    "papermill": {
     "duration": 0.051598,
     "end_time": "2020-11-11T09:40:04.646629",
     "exception": false,
     "start_time": "2020-11-11T09:40:04.595031",
     "status": "completed"
    },
    "tags": []
   },
   "outputs": [
    {
     "data": {
      "text/plain": [
       "['annotations', 'splits', 'MEDIAEVAL-mapping', 'input']"
      ]
     },
     "execution_count": 3,
     "metadata": {},
     "output_type": "execute_result"
    }
   ],
   "source": [
    "os.listdir('/kaggle/input/mediaeval-v2')"
   ]
  },
  {
   "cell_type": "code",
   "execution_count": 4,
   "metadata": {
    "execution": {
     "iopub.execute_input": "2020-11-11T09:40:04.732770Z",
     "iopub.status.busy": "2020-11-11T09:40:04.731902Z",
     "iopub.status.idle": "2020-11-11T09:40:04.734745Z",
     "shell.execute_reply": "2020-11-11T09:40:04.734133Z"
    },
    "papermill": {
     "duration": 0.047459,
     "end_time": "2020-11-11T09:40:04.734855",
     "exception": false,
     "start_time": "2020-11-11T09:40:04.687396",
     "status": "completed"
    },
    "tags": []
   },
   "outputs": [],
   "source": [
    "path_lbl = '/kaggle/input/mediaeval-v2/annotations'\n",
    "path_split = '/kaggle/input/mediaeval-v2/MEDIAEVAL-mapping'\n",
    "path_img = '/kaggle/input/mediaeval-v2/input/MediaEval'\n",
    "\n",
    "path_lbl_m = path_lbl + '/MEDIAEVALaffect.txt'\n",
    "path_lbl_a = path_lbl + '/ACCEDEaffect.txt'\n",
    "\n",
    "path_split_dev = path_split + '/shots-devset-nl.txt'\n",
    "path_split_test = path_split + '/shots-testset-nl.txt'"
   ]
  },
  {
   "cell_type": "markdown",
   "metadata": {
    "papermill": {
     "duration": 0.044803,
     "end_time": "2020-11-11T09:40:04.827210",
     "exception": false,
     "start_time": "2020-11-11T09:40:04.782407",
     "status": "completed"
    },
    "tags": []
   },
   "source": [
    "# load file"
   ]
  },
  {
   "cell_type": "code",
   "execution_count": 5,
   "metadata": {
    "execution": {
     "iopub.execute_input": "2020-11-11T09:40:04.917335Z",
     "iopub.status.busy": "2020-11-11T09:40:04.916623Z",
     "iopub.status.idle": "2020-11-11T09:40:04.933871Z",
     "shell.execute_reply": "2020-11-11T09:40:04.933325Z"
    },
    "papermill": {
     "duration": 0.063716,
     "end_time": "2020-11-11T09:40:04.933992",
     "exception": false,
     "start_time": "2020-11-11T09:40:04.870276",
     "status": "completed"
    },
    "tags": []
   },
   "outputs": [
    {
     "data": {
      "text/plain": [
       "(['id\\tname\\tvalenceClass\\tarousalClass\\n',\n",
       "  '0\\tMEDIAEVAL00000\\t0\\t-1\\n',\n",
       "  '1\\tMEDIAEVAL00001\\t1\\t-1\\n',\n",
       "  '2\\tMEDIAEVAL00002\\t-1\\t0\\n',\n",
       "  '3\\tMEDIAEVAL00003\\t-1\\t-1\\n',\n",
       "  '4\\tMEDIAEVAL00004\\t0\\t0\\n',\n",
       "  '5\\tMEDIAEVAL00005\\t-1\\t0\\n',\n",
       "  '6\\tMEDIAEVAL00006\\t0\\t0\\n',\n",
       "  '7\\tMEDIAEVAL00007\\t-1\\t-1\\n',\n",
       "  '8\\tMEDIAEVAL00008\\t-1\\t0\\n'],\n",
       " ['9790\\tACCEDE09790\\t0\\t-1\\n',\n",
       "  '9791\\tACCEDE09791\\t1\\t-1\\n',\n",
       "  '9792\\tACCEDE09792\\t1\\t-1\\n',\n",
       "  '9793\\tACCEDE09793\\t0\\t-1\\n',\n",
       "  '9794\\tACCEDE09794\\t1\\t-1\\n',\n",
       "  '9795\\tACCEDE09795\\t1\\t-1\\n',\n",
       "  '9796\\tACCEDE09796\\t1\\t-1\\n',\n",
       "  '9797\\tACCEDE09797\\t1\\t-1\\n',\n",
       "  '9798\\tACCEDE09798\\t1\\t-1\\n',\n",
       "  '9799\\tACCEDE09799\\t1\\t-1\\n'])"
      ]
     },
     "execution_count": 5,
     "metadata": {},
     "output_type": "execute_result"
    }
   ],
   "source": [
    "with open(path_lbl_m, 'r') as f:\n",
    "    res = f.readlines()\n",
    "    \n",
    "with open(path_lbl_a, 'r') as f:\n",
    "    res1 = f.readlines()\n",
    "    \n",
    "res = res + res1[1:]\n",
    "res[:10], res[-10:]"
   ]
  },
  {
   "cell_type": "code",
   "execution_count": 6,
   "metadata": {
    "execution": {
     "iopub.execute_input": "2020-11-11T09:40:05.026423Z",
     "iopub.status.busy": "2020-11-11T09:40:05.025617Z",
     "iopub.status.idle": "2020-11-11T09:40:05.028938Z",
     "shell.execute_reply": "2020-11-11T09:40:05.029439Z"
    },
    "papermill": {
     "duration": 0.054821,
     "end_time": "2020-11-11T09:40:05.029554",
     "exception": false,
     "start_time": "2020-11-11T09:40:04.974733",
     "status": "completed"
    },
    "tags": []
   },
   "outputs": [
    {
     "data": {
      "text/plain": [
       "(['name',\n",
       "  'MEDIAEVAL00000',\n",
       "  'MEDIAEVAL00001',\n",
       "  'MEDIAEVAL00002',\n",
       "  'MEDIAEVAL00003',\n",
       "  'MEDIAEVAL00004',\n",
       "  'MEDIAEVAL00005',\n",
       "  'MEDIAEVAL00006',\n",
       "  'MEDIAEVAL00007',\n",
       "  'MEDIAEVAL00008'],\n",
       " ['ACCEDE09790',\n",
       "  'ACCEDE09791',\n",
       "  'ACCEDE09792',\n",
       "  'ACCEDE09793',\n",
       "  'ACCEDE09794',\n",
       "  'ACCEDE09795',\n",
       "  'ACCEDE09796',\n",
       "  'ACCEDE09797',\n",
       "  'ACCEDE09798',\n",
       "  'ACCEDE09799'])"
      ]
     },
     "execution_count": 6,
     "metadata": {},
     "output_type": "execute_result"
    }
   ],
   "source": [
    "file = [r.split('\\t')[1] for r in res]\n",
    "file[:10], file[-10:]"
   ]
  },
  {
   "cell_type": "code",
   "execution_count": 7,
   "metadata": {
    "execution": {
     "iopub.execute_input": "2020-11-11T09:40:05.122485Z",
     "iopub.status.busy": "2020-11-11T09:40:05.121689Z",
     "iopub.status.idle": "2020-11-11T09:40:05.125147Z",
     "shell.execute_reply": "2020-11-11T09:40:05.125635Z"
    },
    "papermill": {
     "duration": 0.055108,
     "end_time": "2020-11-11T09:40:05.125761",
     "exception": false,
     "start_time": "2020-11-11T09:40:05.070653",
     "status": "completed"
    },
    "tags": []
   },
   "outputs": [
    {
     "data": {
      "text/plain": [
       "(['valenceClass', '0', '1', '-1', '-1', '0', '-1', '0', '-1', '-1'],\n",
       " ['0', '1', '1', '0', '1', '1', '1', '1', '1', '1'])"
      ]
     },
     "execution_count": 7,
     "metadata": {},
     "output_type": "execute_result"
    }
   ],
   "source": [
    "v_class = [r.split('\\t')[2] for r in res]\n",
    "v_class[:10], v_class[-10:]"
   ]
  },
  {
   "cell_type": "code",
   "execution_count": 8,
   "metadata": {
    "execution": {
     "iopub.execute_input": "2020-11-11T09:40:05.232836Z",
     "iopub.status.busy": "2020-11-11T09:40:05.231832Z",
     "iopub.status.idle": "2020-11-11T09:40:05.236470Z",
     "shell.execute_reply": "2020-11-11T09:40:05.236003Z"
    },
    "papermill": {
     "duration": 0.06434,
     "end_time": "2020-11-11T09:40:05.236577",
     "exception": false,
     "start_time": "2020-11-11T09:40:05.172237",
     "status": "completed"
    },
    "tags": []
   },
   "outputs": [
    {
     "data": {
      "text/plain": [
       "(['arousalClass', '-1', '-1', '0', '-1', '0', '0', '0', '-1', '0'],\n",
       " ['-1', '-1', '-1', '-1', '-1', '-1', '-1', '-1', '-1', '-1'])"
      ]
     },
     "execution_count": 8,
     "metadata": {},
     "output_type": "execute_result"
    }
   ],
   "source": [
    "a_class = [r.split('\\t')[3].rstrip() for r in res]\n",
    "a_class[:10], a_class[-10:]"
   ]
  },
  {
   "cell_type": "code",
   "execution_count": 9,
   "metadata": {
    "execution": {
     "iopub.execute_input": "2020-11-11T09:40:05.326907Z",
     "iopub.status.busy": "2020-11-11T09:40:05.326113Z",
     "iopub.status.idle": "2020-11-11T09:40:05.337768Z",
     "shell.execute_reply": "2020-11-11T09:40:05.337278Z"
    },
    "papermill": {
     "duration": 0.058702,
     "end_time": "2020-11-11T09:40:05.337871",
     "exception": false,
     "start_time": "2020-11-11T09:40:05.279169",
     "status": "completed"
    },
    "tags": []
   },
   "outputs": [
    {
     "data": {
      "text/plain": [
       "['000000\\tACCEDE00730.mp4\\n',\n",
       " '000001\\tACCEDE00723.mp4\\n',\n",
       " '000002\\tACCEDE00720.mp4\\n',\n",
       " '000003\\tACCEDE00728.mp4\\n',\n",
       " '000004\\tACCEDE00724.mp4\\n',\n",
       " '000005\\tACCEDE00719.mp4\\n',\n",
       " '000006\\tACCEDE00726.mp4\\n',\n",
       " '000007\\tACCEDE00727.mp4\\n',\n",
       " '000008\\tACCEDE00722.mp4\\n',\n",
       " '000009\\tACCEDE00729.mp4\\n']"
      ]
     },
     "execution_count": 9,
     "metadata": {},
     "output_type": "execute_result"
    }
   ],
   "source": [
    "with open(path_split_dev, 'r') as f:\n",
    "    dev = f.readlines()\n",
    "    \n",
    "dev[:10]"
   ]
  },
  {
   "cell_type": "code",
   "execution_count": 10,
   "metadata": {
    "execution": {
     "iopub.execute_input": "2020-11-11T09:40:05.430175Z",
     "iopub.status.busy": "2020-11-11T09:40:05.429378Z",
     "iopub.status.idle": "2020-11-11T09:40:05.433307Z",
     "shell.execute_reply": "2020-11-11T09:40:05.432698Z"
    },
    "papermill": {
     "duration": 0.054261,
     "end_time": "2020-11-11T09:40:05.433404",
     "exception": false,
     "start_time": "2020-11-11T09:40:05.379143",
     "status": "completed"
    },
    "tags": []
   },
   "outputs": [
    {
     "data": {
      "text/plain": [
       "(['ACCEDE00730.mp4',\n",
       "  'ACCEDE00723.mp4',\n",
       "  'ACCEDE00720.mp4',\n",
       "  'ACCEDE00728.mp4',\n",
       "  'ACCEDE00724.mp4',\n",
       "  'ACCEDE00719.mp4',\n",
       "  'ACCEDE00726.mp4',\n",
       "  'ACCEDE00727.mp4',\n",
       "  'ACCEDE00722.mp4',\n",
       "  'ACCEDE00729.mp4'],\n",
       " ['ACCEDE09649.mp4',\n",
       "  'ACCEDE09657.mp4',\n",
       "  'ACCEDE09638.mp4',\n",
       "  'ACCEDE09667.mp4',\n",
       "  'ACCEDE09640.mp4',\n",
       "  'ACCEDE09644.mp4',\n",
       "  'ACCEDE09645.mp4',\n",
       "  'ACCEDE09642.mp4',\n",
       "  'ACCEDE09647.mp4',\n",
       "  'ACCEDE09652.mp4'])"
      ]
     },
     "execution_count": 10,
     "metadata": {},
     "output_type": "execute_result"
    }
   ],
   "source": [
    "dev_file = [d.split('\\t')[1].rstrip() for d in dev]\n",
    "dev_file[:10], dev_file[-10:]"
   ]
  },
  {
   "cell_type": "code",
   "execution_count": 11,
   "metadata": {
    "execution": {
     "iopub.execute_input": "2020-11-11T09:40:05.521617Z",
     "iopub.status.busy": "2020-11-11T09:40:05.520953Z",
     "iopub.status.idle": "2020-11-11T09:40:05.529168Z",
     "shell.execute_reply": "2020-11-11T09:40:05.528538Z"
    },
    "papermill": {
     "duration": 0.053791,
     "end_time": "2020-11-11T09:40:05.529263",
     "exception": false,
     "start_time": "2020-11-11T09:40:05.475472",
     "status": "completed"
    },
    "tags": []
   },
   "outputs": [
    {
     "data": {
      "text/plain": [
       "['006144\\tACCEDE05507.mp4\\n',\n",
       " '006145\\tACCEDE05509.mp4\\n',\n",
       " '006146\\tACCEDE05502.mp4\\n',\n",
       " '006147\\tACCEDE05496.mp4\\n',\n",
       " '006148\\tACCEDE05515.mp4\\n',\n",
       " '006149\\tACCEDE05516.mp4\\n',\n",
       " '006150\\tACCEDE05519.mp4\\n',\n",
       " '006151\\tACCEDE05521.mp4\\n',\n",
       " '006152\\tACCEDE05494.mp4\\n',\n",
       " '006153\\tACCEDE05501.mp4\\n']"
      ]
     },
     "execution_count": 11,
     "metadata": {},
     "output_type": "execute_result"
    }
   ],
   "source": [
    "with open(path_split_test, 'r') as f:\n",
    "    test = f.readlines()\n",
    "    \n",
    "test[:10]"
   ]
  },
  {
   "cell_type": "code",
   "execution_count": 12,
   "metadata": {
    "execution": {
     "iopub.execute_input": "2020-11-11T09:40:05.621497Z",
     "iopub.status.busy": "2020-11-11T09:40:05.620670Z",
     "iopub.status.idle": "2020-11-11T09:40:05.624482Z",
     "shell.execute_reply": "2020-11-11T09:40:05.623983Z"
    },
    "papermill": {
     "duration": 0.053438,
     "end_time": "2020-11-11T09:40:05.624572",
     "exception": false,
     "start_time": "2020-11-11T09:40:05.571134",
     "status": "completed"
    },
    "tags": []
   },
   "outputs": [
    {
     "data": {
      "text/plain": [
       "(['ACCEDE05507.mp4',\n",
       "  'ACCEDE05509.mp4',\n",
       "  'ACCEDE05502.mp4',\n",
       "  'ACCEDE05496.mp4',\n",
       "  'ACCEDE05515.mp4',\n",
       "  'ACCEDE05516.mp4',\n",
       "  'ACCEDE05519.mp4',\n",
       "  'ACCEDE05521.mp4',\n",
       "  'ACCEDE05494.mp4',\n",
       "  'ACCEDE05501.mp4'],\n",
       " ['ACCEDE00679.mp4',\n",
       "  'ACCEDE00676.mp4',\n",
       "  'ACCEDE00673.mp4',\n",
       "  'ACCEDE00681.mp4',\n",
       "  'ACCEDE00675.mp4',\n",
       "  'ACCEDE00684.mp4',\n",
       "  'ACCEDE00682.mp4',\n",
       "  'ACCEDE00686.mp4',\n",
       "  'ACCEDE00680.mp4',\n",
       "  'ACCEDE00685.mp4'])"
      ]
     },
     "execution_count": 12,
     "metadata": {},
     "output_type": "execute_result"
    }
   ],
   "source": [
    "test_file = [t.split('\\t')[1].rstrip() for t in test]\n",
    "test_file[:10], test_file[-10:]"
   ]
  },
  {
   "cell_type": "code",
   "execution_count": 13,
   "metadata": {
    "execution": {
     "iopub.execute_input": "2020-11-11T09:40:05.725295Z",
     "iopub.status.busy": "2020-11-11T09:40:05.717045Z",
     "iopub.status.idle": "2020-11-11T09:40:05.744528Z",
     "shell.execute_reply": "2020-11-11T09:40:05.744017Z"
    },
    "papermill": {
     "duration": 0.077286,
     "end_time": "2020-11-11T09:40:05.744639",
     "exception": false,
     "start_time": "2020-11-11T09:40:05.667353",
     "status": "completed"
    },
    "tags": []
   },
   "outputs": [
    {
     "data": {
      "text/html": [
       "<div>\n",
       "<style scoped>\n",
       "    .dataframe tbody tr th:only-of-type {\n",
       "        vertical-align: middle;\n",
       "    }\n",
       "\n",
       "    .dataframe tbody tr th {\n",
       "        vertical-align: top;\n",
       "    }\n",
       "\n",
       "    .dataframe thead th {\n",
       "        text-align: right;\n",
       "    }\n",
       "</style>\n",
       "<table border=\"1\" class=\"dataframe\">\n",
       "  <thead>\n",
       "    <tr style=\"text-align: right;\">\n",
       "      <th></th>\n",
       "      <th>file</th>\n",
       "      <th>v_class</th>\n",
       "      <th>a_class</th>\n",
       "    </tr>\n",
       "  </thead>\n",
       "  <tbody>\n",
       "    <tr>\n",
       "      <th>0</th>\n",
       "      <td>MEDIAEVAL00000</td>\n",
       "      <td>0</td>\n",
       "      <td>-1</td>\n",
       "    </tr>\n",
       "    <tr>\n",
       "      <th>1</th>\n",
       "      <td>MEDIAEVAL00001</td>\n",
       "      <td>1</td>\n",
       "      <td>-1</td>\n",
       "    </tr>\n",
       "    <tr>\n",
       "      <th>2</th>\n",
       "      <td>MEDIAEVAL00002</td>\n",
       "      <td>-1</td>\n",
       "      <td>0</td>\n",
       "    </tr>\n",
       "    <tr>\n",
       "      <th>3</th>\n",
       "      <td>MEDIAEVAL00003</td>\n",
       "      <td>-1</td>\n",
       "      <td>-1</td>\n",
       "    </tr>\n",
       "    <tr>\n",
       "      <th>4</th>\n",
       "      <td>MEDIAEVAL00004</td>\n",
       "      <td>0</td>\n",
       "      <td>0</td>\n",
       "    </tr>\n",
       "    <tr>\n",
       "      <th>...</th>\n",
       "      <td>...</td>\n",
       "      <td>...</td>\n",
       "      <td>...</td>\n",
       "    </tr>\n",
       "    <tr>\n",
       "      <th>10895</th>\n",
       "      <td>ACCEDE09795</td>\n",
       "      <td>1</td>\n",
       "      <td>-1</td>\n",
       "    </tr>\n",
       "    <tr>\n",
       "      <th>10896</th>\n",
       "      <td>ACCEDE09796</td>\n",
       "      <td>1</td>\n",
       "      <td>-1</td>\n",
       "    </tr>\n",
       "    <tr>\n",
       "      <th>10897</th>\n",
       "      <td>ACCEDE09797</td>\n",
       "      <td>1</td>\n",
       "      <td>-1</td>\n",
       "    </tr>\n",
       "    <tr>\n",
       "      <th>10898</th>\n",
       "      <td>ACCEDE09798</td>\n",
       "      <td>1</td>\n",
       "      <td>-1</td>\n",
       "    </tr>\n",
       "    <tr>\n",
       "      <th>10899</th>\n",
       "      <td>ACCEDE09799</td>\n",
       "      <td>1</td>\n",
       "      <td>-1</td>\n",
       "    </tr>\n",
       "  </tbody>\n",
       "</table>\n",
       "<p>10900 rows × 3 columns</p>\n",
       "</div>"
      ],
      "text/plain": [
       "                 file v_class a_class\n",
       "0      MEDIAEVAL00000       0      -1\n",
       "1      MEDIAEVAL00001       1      -1\n",
       "2      MEDIAEVAL00002      -1       0\n",
       "3      MEDIAEVAL00003      -1      -1\n",
       "4      MEDIAEVAL00004       0       0\n",
       "...               ...     ...     ...\n",
       "10895     ACCEDE09795       1      -1\n",
       "10896     ACCEDE09796       1      -1\n",
       "10897     ACCEDE09797       1      -1\n",
       "10898     ACCEDE09798       1      -1\n",
       "10899     ACCEDE09799       1      -1\n",
       "\n",
       "[10900 rows x 3 columns]"
      ]
     },
     "execution_count": 13,
     "metadata": {},
     "output_type": "execute_result"
    }
   ],
   "source": [
    "data = pd.DataFrame(index=range(len(res[1:])))\n",
    "data['file'] = file[1:]\n",
    "data['v_class'] = v_class[1:]\n",
    "data['a_class'] = a_class[1:]\n",
    "\n",
    "data"
   ]
  },
  {
   "cell_type": "code",
   "execution_count": 14,
   "metadata": {
    "execution": {
     "iopub.execute_input": "2020-11-11T09:40:05.845078Z",
     "iopub.status.busy": "2020-11-11T09:40:05.844398Z",
     "iopub.status.idle": "2020-11-11T09:40:33.296699Z",
     "shell.execute_reply": "2020-11-11T09:40:33.297815Z"
    },
    "papermill": {
     "duration": 27.505672,
     "end_time": "2020-11-11T09:40:33.298003",
     "exception": false,
     "start_time": "2020-11-11T09:40:05.792331",
     "status": "completed"
    },
    "tags": []
   },
   "outputs": [
    {
     "data": {
      "text/plain": [
       "([1, 0, -1, 1, 1, 1, -1, 1, 0, 1], [-1, -1, -1, -1, -1, -1, -1, 1, -1, -1])"
      ]
     },
     "execution_count": 14,
     "metadata": {},
     "output_type": "execute_result"
    }
   ],
   "source": [
    "dev_v_class = [int(data[data['file'] == d.split('.')[0]]['v_class'].tolist()[0]) for d in dev_file]\n",
    "dev_a_class = [int(data[data['file'] == d.split('.')[0]]['a_class'].tolist()[0]) for d in dev_file]\n",
    "dev_v_class[:10],dev_a_class[:10]"
   ]
  },
  {
   "cell_type": "code",
   "execution_count": 15,
   "metadata": {
    "execution": {
     "iopub.execute_input": "2020-11-11T09:40:33.439379Z",
     "iopub.status.busy": "2020-11-11T09:40:33.438458Z",
     "iopub.status.idle": "2020-11-11T09:40:33.456071Z",
     "shell.execute_reply": "2020-11-11T09:40:33.456796Z"
    },
    "papermill": {
     "duration": 0.092758,
     "end_time": "2020-11-11T09:40:33.456983",
     "exception": false,
     "start_time": "2020-11-11T09:40:33.364225",
     "status": "completed"
    },
    "tags": []
   },
   "outputs": [
    {
     "data": {
      "text/plain": [
       "['/kaggle/input/mediaeval-v2/input/MediaEval/ACCEDE00730',\n",
       " '/kaggle/input/mediaeval-v2/input/MediaEval/ACCEDE00723',\n",
       " '/kaggle/input/mediaeval-v2/input/MediaEval/ACCEDE00720',\n",
       " '/kaggle/input/mediaeval-v2/input/MediaEval/ACCEDE00728',\n",
       " '/kaggle/input/mediaeval-v2/input/MediaEval/ACCEDE00724',\n",
       " '/kaggle/input/mediaeval-v2/input/MediaEval/ACCEDE00719',\n",
       " '/kaggle/input/mediaeval-v2/input/MediaEval/ACCEDE00726',\n",
       " '/kaggle/input/mediaeval-v2/input/MediaEval/ACCEDE00727',\n",
       " '/kaggle/input/mediaeval-v2/input/MediaEval/ACCEDE00722',\n",
       " '/kaggle/input/mediaeval-v2/input/MediaEval/ACCEDE00729']"
      ]
     },
     "execution_count": 15,
     "metadata": {},
     "output_type": "execute_result"
    }
   ],
   "source": [
    "dev_ids = [path_img + '/' + d.split('.')[0] for d in dev_file]\n",
    "dev_ids[:10]"
   ]
  },
  {
   "cell_type": "code",
   "execution_count": 16,
   "metadata": {
    "execution": {
     "iopub.execute_input": "2020-11-11T09:40:33.617830Z",
     "iopub.status.busy": "2020-11-11T09:40:33.617127Z",
     "iopub.status.idle": "2020-11-11T09:40:33.622135Z",
     "shell.execute_reply": "2020-11-11T09:40:33.622612Z"
    },
    "papermill": {
     "duration": 0.091816,
     "end_time": "2020-11-11T09:40:33.622744",
     "exception": false,
     "start_time": "2020-11-11T09:40:33.530928",
     "status": "completed"
    },
    "tags": []
   },
   "outputs": [
    {
     "data": {
      "text/html": [
       "<div>\n",
       "<style scoped>\n",
       "    .dataframe tbody tr th:only-of-type {\n",
       "        vertical-align: middle;\n",
       "    }\n",
       "\n",
       "    .dataframe tbody tr th {\n",
       "        vertical-align: top;\n",
       "    }\n",
       "\n",
       "    .dataframe thead th {\n",
       "        text-align: right;\n",
       "    }\n",
       "</style>\n",
       "<table border=\"1\" class=\"dataframe\">\n",
       "  <thead>\n",
       "    <tr style=\"text-align: right;\">\n",
       "      <th></th>\n",
       "      <th>file</th>\n",
       "      <th>v_class</th>\n",
       "      <th>a_class</th>\n",
       "    </tr>\n",
       "  </thead>\n",
       "  <tbody>\n",
       "    <tr>\n",
       "      <th>0</th>\n",
       "      <td>/kaggle/input/mediaeval-v2/input/MediaEval/ACC...</td>\n",
       "      <td>1</td>\n",
       "      <td>-1</td>\n",
       "    </tr>\n",
       "    <tr>\n",
       "      <th>1</th>\n",
       "      <td>/kaggle/input/mediaeval-v2/input/MediaEval/ACC...</td>\n",
       "      <td>0</td>\n",
       "      <td>-1</td>\n",
       "    </tr>\n",
       "    <tr>\n",
       "      <th>2</th>\n",
       "      <td>/kaggle/input/mediaeval-v2/input/MediaEval/ACC...</td>\n",
       "      <td>-1</td>\n",
       "      <td>-1</td>\n",
       "    </tr>\n",
       "    <tr>\n",
       "      <th>3</th>\n",
       "      <td>/kaggle/input/mediaeval-v2/input/MediaEval/ACC...</td>\n",
       "      <td>1</td>\n",
       "      <td>-1</td>\n",
       "    </tr>\n",
       "    <tr>\n",
       "      <th>4</th>\n",
       "      <td>/kaggle/input/mediaeval-v2/input/MediaEval/ACC...</td>\n",
       "      <td>1</td>\n",
       "      <td>-1</td>\n",
       "    </tr>\n",
       "    <tr>\n",
       "      <th>...</th>\n",
       "      <td>...</td>\n",
       "      <td>...</td>\n",
       "      <td>...</td>\n",
       "    </tr>\n",
       "    <tr>\n",
       "      <th>6139</th>\n",
       "      <td>/kaggle/input/mediaeval-v2/input/MediaEval/ACC...</td>\n",
       "      <td>0</td>\n",
       "      <td>1</td>\n",
       "    </tr>\n",
       "    <tr>\n",
       "      <th>6140</th>\n",
       "      <td>/kaggle/input/mediaeval-v2/input/MediaEval/ACC...</td>\n",
       "      <td>0</td>\n",
       "      <td>-1</td>\n",
       "    </tr>\n",
       "    <tr>\n",
       "      <th>6141</th>\n",
       "      <td>/kaggle/input/mediaeval-v2/input/MediaEval/ACC...</td>\n",
       "      <td>0</td>\n",
       "      <td>-1</td>\n",
       "    </tr>\n",
       "    <tr>\n",
       "      <th>6142</th>\n",
       "      <td>/kaggle/input/mediaeval-v2/input/MediaEval/ACC...</td>\n",
       "      <td>-1</td>\n",
       "      <td>1</td>\n",
       "    </tr>\n",
       "    <tr>\n",
       "      <th>6143</th>\n",
       "      <td>/kaggle/input/mediaeval-v2/input/MediaEval/ACC...</td>\n",
       "      <td>-1</td>\n",
       "      <td>1</td>\n",
       "    </tr>\n",
       "  </tbody>\n",
       "</table>\n",
       "<p>6144 rows × 3 columns</p>\n",
       "</div>"
      ],
      "text/plain": [
       "                                                   file  v_class  a_class\n",
       "0     /kaggle/input/mediaeval-v2/input/MediaEval/ACC...        1       -1\n",
       "1     /kaggle/input/mediaeval-v2/input/MediaEval/ACC...        0       -1\n",
       "2     /kaggle/input/mediaeval-v2/input/MediaEval/ACC...       -1       -1\n",
       "3     /kaggle/input/mediaeval-v2/input/MediaEval/ACC...        1       -1\n",
       "4     /kaggle/input/mediaeval-v2/input/MediaEval/ACC...        1       -1\n",
       "...                                                 ...      ...      ...\n",
       "6139  /kaggle/input/mediaeval-v2/input/MediaEval/ACC...        0        1\n",
       "6140  /kaggle/input/mediaeval-v2/input/MediaEval/ACC...        0       -1\n",
       "6141  /kaggle/input/mediaeval-v2/input/MediaEval/ACC...        0       -1\n",
       "6142  /kaggle/input/mediaeval-v2/input/MediaEval/ACC...       -1        1\n",
       "6143  /kaggle/input/mediaeval-v2/input/MediaEval/ACC...       -1        1\n",
       "\n",
       "[6144 rows x 3 columns]"
      ]
     },
     "execution_count": 16,
     "metadata": {},
     "output_type": "execute_result"
    }
   ],
   "source": [
    "data_t = pd.DataFrame(index=range(len(dev_file)))\n",
    "data_t['file'] = dev_ids\n",
    "data_t['v_class'] = dev_v_class\n",
    "data_t['a_class'] = dev_a_class\n",
    "\n",
    "data_t"
   ]
  },
  {
   "cell_type": "markdown",
   "metadata": {
    "papermill": {
     "duration": 0.0439,
     "end_time": "2020-11-11T09:40:33.710772",
     "exception": false,
     "start_time": "2020-11-11T09:40:33.666872",
     "status": "completed"
    },
    "tags": []
   },
   "source": [
    "# video dataset"
   ]
  },
  {
   "cell_type": "code",
   "execution_count": 17,
   "metadata": {
    "execution": {
     "iopub.execute_input": "2020-11-11T09:40:33.809230Z",
     "iopub.status.busy": "2020-11-11T09:40:33.808547Z",
     "iopub.status.idle": "2020-11-11T09:40:33.827040Z",
     "shell.execute_reply": "2020-11-11T09:40:33.826548Z"
    },
    "papermill": {
     "duration": 0.070789,
     "end_time": "2020-11-11T09:40:33.827154",
     "exception": false,
     "start_time": "2020-11-11T09:40:33.756365",
     "status": "completed"
    },
    "tags": []
   },
   "outputs": [
    {
     "data": {
      "text/plain": [
       "(-1    2243\n",
       "  0    2233\n",
       "  1    1668\n",
       " Name: v_class, dtype: int64,\n",
       " -1    2018\n",
       "  0    2010\n",
       "  1    1501\n",
       " Name: v_class, dtype: int64,\n",
       " -1    225\n",
       "  0    223\n",
       "  1    167\n",
       " Name: v_class, dtype: int64)"
      ]
     },
     "execution_count": 17,
     "metadata": {},
     "output_type": "execute_result"
    }
   ],
   "source": [
    "train_indx = np.load('/kaggle/input/mediaeval-v2/splits/train.npy')\n",
    "valid_indx = np.load('/kaggle/input/mediaeval-v2/splits/valid.npy')\n",
    "\n",
    "data_train = data_t.iloc[train_indx, :]\n",
    "data_val = data_t.iloc[valid_indx, :]\n",
    "\n",
    "data_t['v_class'].value_counts(), data_train['v_class'].value_counts(), data_val['v_class'].value_counts()"
   ]
  },
  {
   "cell_type": "code",
   "execution_count": 18,
   "metadata": {
    "execution": {
     "iopub.execute_input": "2020-11-11T09:40:33.922962Z",
     "iopub.status.busy": "2020-11-11T09:40:33.922070Z",
     "iopub.status.idle": "2020-11-11T09:40:33.930047Z",
     "shell.execute_reply": "2020-11-11T09:40:33.929366Z"
    },
    "papermill": {
     "duration": 0.058312,
     "end_time": "2020-11-11T09:40:33.930202",
     "exception": false,
     "start_time": "2020-11-11T09:40:33.871890",
     "status": "completed"
    },
    "tags": []
   },
   "outputs": [
    {
     "data": {
      "text/plain": [
       "(-1    3861\n",
       "  1    1419\n",
       "  0     864\n",
       " Name: a_class, dtype: int64,\n",
       " -1    3475\n",
       "  1    1277\n",
       "  0     777\n",
       " Name: a_class, dtype: int64,\n",
       " -1    386\n",
       "  1    142\n",
       "  0     87\n",
       " Name: a_class, dtype: int64)"
      ]
     },
     "execution_count": 18,
     "metadata": {},
     "output_type": "execute_result"
    }
   ],
   "source": [
    "data_t['a_class'].value_counts(), data_train['a_class'].value_counts(), data_val['a_class'].value_counts()"
   ]
  },
  {
   "cell_type": "code",
   "execution_count": 19,
   "metadata": {
    "execution": {
     "iopub.execute_input": "2020-11-11T09:40:34.031675Z",
     "iopub.status.busy": "2020-11-11T09:40:34.030883Z",
     "iopub.status.idle": "2020-11-11T09:40:34.040924Z",
     "shell.execute_reply": "2020-11-11T09:40:34.041406Z"
    },
    "papermill": {
     "duration": 0.063606,
     "end_time": "2020-11-11T09:40:34.041524",
     "exception": false,
     "start_time": "2020-11-11T09:40:33.977918",
     "status": "completed"
    },
    "tags": []
   },
   "outputs": [
    {
     "data": {
      "text/plain": [
       "(6144, 5529, 615)"
      ]
     },
     "execution_count": 19,
     "metadata": {},
     "output_type": "execute_result"
    }
   ],
   "source": [
    "train_ids = data_t.iloc[train_indx, :]['file'].tolist()\n",
    "train_labels_v = data_t.iloc[train_indx, :]['v_class'].tolist()\n",
    "train_labels_a = data_t.iloc[train_indx, :]['a_class'].tolist()\n",
    "\n",
    "valid_ids = data_t.iloc[valid_indx, :]['file'].tolist()\n",
    "valid_labels_v = data_t.iloc[valid_indx, :]['v_class'].tolist()\n",
    "valid_labels_a = data_t.iloc[valid_indx, :]['a_class'].tolist()\n",
    "\n",
    "len(dev_ids), len(train_ids), len(valid_ids)"
   ]
  },
  {
   "cell_type": "code",
   "execution_count": 20,
   "metadata": {
    "execution": {
     "iopub.execute_input": "2020-11-11T09:40:35.476742Z",
     "iopub.status.busy": "2020-11-11T09:40:34.788271Z",
     "iopub.status.idle": "2020-11-11T09:40:55.197374Z",
     "shell.execute_reply": "2020-11-11T09:40:55.197937Z"
    },
    "papermill": {
     "duration": 21.110379,
     "end_time": "2020-11-11T09:40:55.198108",
     "exception": false,
     "start_time": "2020-11-11T09:40:34.087729",
     "status": "completed"
    },
    "tags": []
   },
   "outputs": [
    {
     "data": {
      "text/plain": [
       "([0, -1, 0, 0, -1, 1, 0, 1, -1, 1], [-1, -1, -1, 0, -1, -1, -1, -1, -1, -1])"
      ]
     },
     "execution_count": 20,
     "metadata": {},
     "output_type": "execute_result"
    }
   ],
   "source": [
    "test_v_class = [int(data[data['file'] == t.split('.')[0]]['v_class'].tolist()[0]) for t in test_file]\n",
    "test_a_class = [int(data[data['file'] == t.split('.')[0]]['a_class'].tolist()[0]) for t in test_file]\n",
    "test_v_class[:10],test_a_class[:10]"
   ]
  },
  {
   "cell_type": "code",
   "execution_count": 21,
   "metadata": {
    "execution": {
     "iopub.execute_input": "2020-11-11T09:40:55.311101Z",
     "iopub.status.busy": "2020-11-11T09:40:55.310154Z",
     "iopub.status.idle": "2020-11-11T09:40:55.314451Z",
     "shell.execute_reply": "2020-11-11T09:40:55.313948Z"
    },
    "papermill": {
     "duration": 0.059167,
     "end_time": "2020-11-11T09:40:55.314550",
     "exception": false,
     "start_time": "2020-11-11T09:40:55.255383",
     "status": "completed"
    },
    "tags": []
   },
   "outputs": [
    {
     "data": {
      "text/plain": [
       "4756"
      ]
     },
     "execution_count": 21,
     "metadata": {},
     "output_type": "execute_result"
    }
   ],
   "source": [
    "test_ids = [path_img + '/' + t.split('.')[0] for t in test_file]\n",
    "test_labels_v = test_v_class\n",
    "test_labels_a = test_a_class\n",
    "len(test_ids)"
   ]
  },
  {
   "cell_type": "code",
   "execution_count": 22,
   "metadata": {
    "execution": {
     "iopub.execute_input": "2020-11-11T09:40:55.430195Z",
     "iopub.status.busy": "2020-11-11T09:40:55.429376Z",
     "iopub.status.idle": "2020-11-11T09:40:55.432611Z",
     "shell.execute_reply": "2020-11-11T09:40:55.432109Z"
    },
    "papermill": {
     "duration": 0.071188,
     "end_time": "2020-11-11T09:40:55.432727",
     "exception": false,
     "start_time": "2020-11-11T09:40:55.361539",
     "status": "completed"
    },
    "tags": []
   },
   "outputs": [],
   "source": [
    "# divide 8 segment, sample one frame per segment\n",
    "\n",
    "class VideoDataset(Dataset):\n",
    "    def __init__(self, ids, labels, labels1, transform):\n",
    "        self.transform = transform\n",
    "        self.ids = ids\n",
    "        self.labels = labels\n",
    "        self.labels1 = labels1\n",
    "\n",
    "    def __len__(self):\n",
    "        return len(self.ids)\n",
    "    \n",
    "    def __getitem__(self, idx):\n",
    "        dir = self.ids[idx]\n",
    "        path2imgs = os.listdir(dir)\n",
    "        \n",
    "        path2imgs.sort(key=lambda x:int(x[5:-4]))\n",
    "        path2imgs = [os.path.join(dir, i) for i in path2imgs]\n",
    "        \n",
    "        label = self.labels[idx] + 1\n",
    "        label1 = self.labels1[idx] + 1\n",
    "\n",
    "        frames = []\n",
    "        for p2i in path2imgs:\n",
    "            frame = Image.open(p2i)\n",
    "            frames.append(frame)\n",
    "\n",
    "        frames_tr = []\n",
    "        for frame in frames:\n",
    "            frame = self.transform(frame)\n",
    "            frames_tr.append(frame)\n",
    "        if len(frames_tr) > 0:\n",
    "            frames_tr = torch.stack(frames_tr)\n",
    "        \n",
    "        return frames_tr, label, label1"
   ]
  },
  {
   "cell_type": "code",
   "execution_count": 23,
   "metadata": {
    "execution": {
     "iopub.execute_input": "2020-11-11T09:40:55.531430Z",
     "iopub.status.busy": "2020-11-11T09:40:55.530759Z",
     "iopub.status.idle": "2020-11-11T09:40:55.535391Z",
     "shell.execute_reply": "2020-11-11T09:40:55.534893Z"
    },
    "papermill": {
     "duration": 0.055827,
     "end_time": "2020-11-11T09:40:55.535498",
     "exception": false,
     "start_time": "2020-11-11T09:40:55.479671",
     "status": "completed"
    },
    "tags": []
   },
   "outputs": [],
   "source": [
    "h, w = 224, 224\n",
    "mean = [0.485, 0.456, 0.406]\n",
    "std = [0.229, 0.224, 0.225]"
   ]
  },
  {
   "cell_type": "code",
   "execution_count": 24,
   "metadata": {
    "execution": {
     "iopub.execute_input": "2020-11-11T09:40:55.638961Z",
     "iopub.status.busy": "2020-11-11T09:40:55.637076Z",
     "iopub.status.idle": "2020-11-11T09:40:55.639645Z",
     "shell.execute_reply": "2020-11-11T09:40:55.640138Z"
    },
    "papermill": {
     "duration": 0.057045,
     "end_time": "2020-11-11T09:40:55.640260",
     "exception": false,
     "start_time": "2020-11-11T09:40:55.583215",
     "status": "completed"
    },
    "tags": []
   },
   "outputs": [],
   "source": [
    "train_transform = transforms.Compose([\n",
    "            transforms.RandomCrop((h, w)),\n",
    "            transforms.RandomHorizontalFlip(p=0.5),\n",
    "            transforms.RandomAffine(degrees=0, translate=(0.1, 0.1)),\n",
    "            transforms.ToTensor(),\n",
    "            transforms.Normalize(mean, std),\n",
    "            ])\n",
    "\n",
    "val_transform = transforms.Compose([\n",
    "            transforms.Resize((h, w)),\n",
    "            transforms.ToTensor(),\n",
    "            transforms.Normalize(mean, std),\n",
    "            ])"
   ]
  },
  {
   "cell_type": "code",
   "execution_count": 25,
   "metadata": {
    "execution": {
     "iopub.execute_input": "2020-11-11T09:40:55.738920Z",
     "iopub.status.busy": "2020-11-11T09:40:55.738073Z",
     "iopub.status.idle": "2020-11-11T09:40:55.743719Z",
     "shell.execute_reply": "2020-11-11T09:40:55.742891Z"
    },
    "papermill": {
     "duration": 0.05721,
     "end_time": "2020-11-11T09:40:55.743851",
     "exception": false,
     "start_time": "2020-11-11T09:40:55.686641",
     "status": "completed"
    },
    "tags": []
   },
   "outputs": [
    {
     "name": "stdout",
     "output_type": "stream",
     "text": [
      "5529\n"
     ]
    }
   ],
   "source": [
    "train_ds = VideoDataset(ids=train_ids, labels=train_labels_v, labels1=train_labels_a, transform=train_transform)\n",
    "print(len(train_ds))"
   ]
  },
  {
   "cell_type": "code",
   "execution_count": 26,
   "metadata": {
    "execution": {
     "iopub.execute_input": "2020-11-11T09:40:55.848353Z",
     "iopub.status.busy": "2020-11-11T09:40:55.847517Z",
     "iopub.status.idle": "2020-11-11T09:40:55.992618Z",
     "shell.execute_reply": "2020-11-11T09:40:55.993716Z"
    },
    "papermill": {
     "duration": 0.199014,
     "end_time": "2020-11-11T09:40:55.993902",
     "exception": false,
     "start_time": "2020-11-11T09:40:55.794888",
     "status": "completed"
    },
    "tags": []
   },
   "outputs": [
    {
     "name": "stdout",
     "output_type": "stream",
     "text": [
      "torch.Size([8, 3, 224, 224]) 0 0 tensor(-2.1179) tensor(1.9254)\n"
     ]
    }
   ],
   "source": [
    "imgs, label, label1 = train_ds[20]\n",
    "print(imgs.shape, label-1, label1-1, torch.min(imgs), torch.max(imgs))"
   ]
  },
  {
   "cell_type": "code",
   "execution_count": 27,
   "metadata": {
    "execution": {
     "iopub.execute_input": "2020-11-11T09:40:56.096665Z",
     "iopub.status.busy": "2020-11-11T09:40:56.096008Z",
     "iopub.status.idle": "2020-11-11T09:40:56.501236Z",
     "shell.execute_reply": "2020-11-11T09:40:56.501761Z"
    },
    "papermill": {
     "duration": 0.459613,
     "end_time": "2020-11-11T09:40:56.501905",
     "exception": false,
     "start_time": "2020-11-11T09:40:56.042292",
     "status": "completed"
    },
    "tags": []
   },
   "outputs": [
    {
     "data": {
      "image/png": "[encoded data removed]",
      "text/plain": [
       "<Figure size 720x720 with 2 Axes>"
      ]
     },
     "metadata": {
      "needs_background": "light"
     },
     "output_type": "display_data"
    }
   ],
   "source": [
    "plt.figure(figsize=(10, 10))\n",
    "for ii, img in enumerate(imgs[::4]):\n",
    "    plt.subplot(2, 2, ii+1)\n",
    "    plt.imshow(denormalize(img, mean, std))\n",
    "    plt.title(str(label-1) + ' ' + str(label1-1))\n",
    "plt.show()"
   ]
  },
  {
   "cell_type": "code",
   "execution_count": 28,
   "metadata": {
    "execution": {
     "iopub.execute_input": "2020-11-11T09:40:56.607407Z",
     "iopub.status.busy": "2020-11-11T09:40:56.606798Z",
     "iopub.status.idle": "2020-11-11T09:40:56.612376Z",
     "shell.execute_reply": "2020-11-11T09:40:56.611573Z"
    },
    "papermill": {
     "duration": 0.060437,
     "end_time": "2020-11-11T09:40:56.612503",
     "exception": false,
     "start_time": "2020-11-11T09:40:56.552066",
     "status": "completed"
    },
    "tags": []
   },
   "outputs": [
    {
     "name": "stdout",
     "output_type": "stream",
     "text": [
      "615\n"
     ]
    }
   ],
   "source": [
    "val_ds = VideoDataset(ids=valid_ids, labels=valid_labels_v, labels1=valid_labels_a,transform=val_transform)\n",
    "print(len(val_ds))"
   ]
  },
  {
   "cell_type": "code",
   "execution_count": 29,
   "metadata": {
    "execution": {
     "iopub.execute_input": "2020-11-11T09:40:56.718625Z",
     "iopub.status.busy": "2020-11-11T09:40:56.718011Z",
     "iopub.status.idle": "2020-11-11T09:40:56.759881Z",
     "shell.execute_reply": "2020-11-11T09:40:56.758988Z"
    },
    "papermill": {
     "duration": 0.096724,
     "end_time": "2020-11-11T09:40:56.759999",
     "exception": false,
     "start_time": "2020-11-11T09:40:56.663275",
     "status": "completed"
    },
    "tags": []
   },
   "outputs": [
    {
     "name": "stdout",
     "output_type": "stream",
     "text": [
      "torch.Size([8, 3, 224, 224]) 0 0 tensor(-2.1179) tensor(2.6400)\n"
     ]
    }
   ],
   "source": [
    "imgs, label, labels1 = val_ds[5]\n",
    "print(imgs.shape, label-1, label1-1, torch.min(imgs), torch.max(imgs))"
   ]
  },
  {
   "cell_type": "code",
   "execution_count": 30,
   "metadata": {
    "execution": {
     "iopub.execute_input": "2020-11-11T09:40:56.876359Z",
     "iopub.status.busy": "2020-11-11T09:40:56.874756Z",
     "iopub.status.idle": "2020-11-11T09:40:57.236906Z",
     "shell.execute_reply": "2020-11-11T09:40:57.237440Z"
    },
    "papermill": {
     "duration": 0.42627,
     "end_time": "2020-11-11T09:40:57.237581",
     "exception": false,
     "start_time": "2020-11-11T09:40:56.811311",
     "status": "completed"
    },
    "tags": []
   },
   "outputs": [
    {
     "data": {
      "image/png": "[encoded data removed]",
      "text/plain": [
       "<Figure size 720x720 with 2 Axes>"
      ]
     },
     "metadata": {
      "needs_background": "light"
     },
     "output_type": "display_data"
    }
   ],
   "source": [
    "plt.figure(figsize=(10, 10))\n",
    "for ii, img in enumerate(imgs[::4]):\n",
    "    plt.subplot(2, 2, ii+1)\n",
    "    plt.imshow(denormalize(img, mean, std))\n",
    "    plt.title(str(label-1) + ' ' + str(label1-1))\n",
    "plt.show()"
   ]
  },
  {
   "cell_type": "code",
   "execution_count": 31,
   "metadata": {
    "execution": {
     "iopub.execute_input": "2020-11-11T09:40:57.372645Z",
     "iopub.status.busy": "2020-11-11T09:40:57.371794Z",
     "iopub.status.idle": "2020-11-11T09:40:57.376246Z",
     "shell.execute_reply": "2020-11-11T09:40:57.376897Z"
    },
    "papermill": {
     "duration": 0.074743,
     "end_time": "2020-11-11T09:40:57.377052",
     "exception": false,
     "start_time": "2020-11-11T09:40:57.302309",
     "status": "completed"
    },
    "tags": []
   },
   "outputs": [
    {
     "name": "stdout",
     "output_type": "stream",
     "text": [
      "4756\n"
     ]
    }
   ],
   "source": [
    "test_ds = VideoDataset(ids=test_ids, labels=test_labels_v, labels1=test_labels_a,transform=val_transform)\n",
    "print(len(test_ds))"
   ]
  },
  {
   "cell_type": "code",
   "execution_count": 32,
   "metadata": {
    "execution": {
     "iopub.execute_input": "2020-11-11T09:40:57.491855Z",
     "iopub.status.busy": "2020-11-11T09:40:57.491251Z",
     "iopub.status.idle": "2020-11-11T09:40:57.533524Z",
     "shell.execute_reply": "2020-11-11T09:40:57.533002Z"
    },
    "papermill": {
     "duration": 0.101493,
     "end_time": "2020-11-11T09:40:57.533644",
     "exception": false,
     "start_time": "2020-11-11T09:40:57.432151",
     "status": "completed"
    },
    "tags": []
   },
   "outputs": [
    {
     "name": "stdout",
     "output_type": "stream",
     "text": [
      "torch.Size([8, 3, 224, 224]) 1 0 tensor(-2.1179) tensor(2.2489)\n"
     ]
    }
   ],
   "source": [
    "imgs, label, labels1 = test_ds[5]\n",
    "print(imgs.shape, label-1, label1-1, torch.min(imgs), torch.max(imgs))"
   ]
  },
  {
   "cell_type": "code",
   "execution_count": 33,
   "metadata": {
    "execution": {
     "iopub.execute_input": "2020-11-11T09:40:57.658370Z",
     "iopub.status.busy": "2020-11-11T09:40:57.655537Z",
     "iopub.status.idle": "2020-11-11T09:40:58.033484Z",
     "shell.execute_reply": "2020-11-11T09:40:58.033994Z"
    },
    "papermill": {
     "duration": 0.445499,
     "end_time": "2020-11-11T09:40:58.034128",
     "exception": false,
     "start_time": "2020-11-11T09:40:57.588629",
     "status": "completed"
    },
    "tags": []
   },
   "outputs": [
    {
     "data": {
      "image/png": "[encoded data removed]",
      "text/plain": [
       "<Figure size 720x720 with 2 Axes>"
      ]
     },
     "metadata": {
      "needs_background": "light"
     },
     "output_type": "display_data"
    }
   ],
   "source": [
    "plt.figure(figsize=(10, 10))\n",
    "for ii, img in enumerate(imgs[::4]):\n",
    "    plt.subplot(2, 2, ii+1)\n",
    "    plt.imshow(denormalize(img, mean, std))\n",
    "    plt.title(str(label-1) + ' ' + str(label1-1))\n",
    "plt.show()"
   ]
  },
  {
   "cell_type": "markdown",
   "metadata": {
    "papermill": {
     "duration": 0.060106,
     "end_time": "2020-11-11T09:40:58.154811",
     "exception": false,
     "start_time": "2020-11-11T09:40:58.094705",
     "status": "completed"
    },
    "tags": []
   },
   "source": [
    "# dataloader"
   ]
  },
  {
   "cell_type": "code",
   "execution_count": 34,
   "metadata": {
    "execution": {
     "iopub.execute_input": "2020-11-11T09:40:58.288523Z",
     "iopub.status.busy": "2020-11-11T09:40:58.287586Z",
     "iopub.status.idle": "2020-11-11T09:40:58.290040Z",
     "shell.execute_reply": "2020-11-11T09:40:58.290510Z"
    },
    "papermill": {
     "duration": 0.07207,
     "end_time": "2020-11-11T09:40:58.290646",
     "exception": false,
     "start_time": "2020-11-11T09:40:58.218576",
     "status": "completed"
    },
    "tags": []
   },
   "outputs": [],
   "source": [
    "def collate_fn_rnn(batch):\n",
    "    imgs_batch, label_batch, label1_batch = list(zip(*batch))\n",
    "    imgs_batch = [imgs for imgs in imgs_batch if len(imgs)>0]\n",
    "    label_batch = [torch.tensor(l) for l, imgs in zip(label_batch, imgs_batch) if len(imgs)>0]\n",
    "    label1_batch = [torch.tensor(l) for l, imgs in zip(label1_batch, imgs_batch) if len(imgs)>0]\n",
    "    imgs_tensor = torch.stack(imgs_batch)\n",
    "    labels_tensor = torch.stack(label_batch)\n",
    "    labels1_tensor = torch.stack(label1_batch)\n",
    "    return imgs_tensor,labels_tensor, labels1_tensor"
   ]
  },
  {
   "cell_type": "code",
   "execution_count": 35,
   "metadata": {
    "execution": {
     "iopub.execute_input": "2020-11-11T09:40:58.789100Z",
     "iopub.status.busy": "2020-11-11T09:40:58.779398Z",
     "iopub.status.idle": "2020-11-11T09:41:11.512791Z",
     "shell.execute_reply": "2020-11-11T09:41:11.512209Z"
    },
    "papermill": {
     "duration": 13.163337,
     "end_time": "2020-11-11T09:41:11.512923",
     "exception": false,
     "start_time": "2020-11-11T09:40:58.349586",
     "status": "completed"
    },
    "tags": []
   },
   "outputs": [
    {
     "name": "stdout",
     "output_type": "stream",
     "text": [
      "torch.Size([16, 8, 3, 224, 224]) torch.Size([16]) torch.Size([16])\n",
      "torch.Size([16, 8, 3, 224, 224]) torch.Size([16]) torch.Size([16])\n",
      "torch.Size([16, 8, 3, 224, 224]) torch.Size([16]) torch.Size([16])\n"
     ]
    }
   ],
   "source": [
    "batch_size = 16\n",
    "\n",
    "train_dl = DataLoader(train_ds, batch_size=batch_size, num_workers=4, pin_memory=True,\n",
    "                          shuffle=True, collate_fn=collate_fn_rnn, drop_last=True)\n",
    "\n",
    "val_dl = DataLoader(val_ds, batch_size=batch_size, num_workers=4, pin_memory=True,\n",
    "                          shuffle=True, collate_fn=collate_fn_rnn, drop_last=True)\n",
    "\n",
    "test_dl = DataLoader(test_ds, batch_size=batch_size, num_workers=4, pin_memory=True,\n",
    "                         shuffle=False, collate_fn=collate_fn_rnn, drop_last=True)\n",
    "\n",
    "for xb, yb, yb1 in train_dl:\n",
    "    print(xb.shape, yb.shape, yb1.shape)\n",
    "    break\n",
    "    \n",
    "for xb, yb,yb1 in val_dl:\n",
    "    print(xb.shape, yb.shape, yb1.shape)\n",
    "    break    \n",
    "\n",
    "for xb, yb, yb1 in test_dl:\n",
    "    print(xb.shape, yb.shape, yb1.shape)\n",
    "    break"
   ]
  },
  {
   "cell_type": "code",
   "execution_count": 36,
   "metadata": {
    "execution": {
     "iopub.execute_input": "2020-11-11T09:41:11.642316Z",
     "iopub.status.busy": "2020-11-11T09:41:11.641405Z",
     "iopub.status.idle": "2020-11-11T09:41:11.643314Z",
     "shell.execute_reply": "2020-11-11T09:41:11.643808Z"
    },
    "papermill": {
     "duration": 0.069851,
     "end_time": "2020-11-11T09:41:11.643930",
     "exception": false,
     "start_time": "2020-11-11T09:41:11.574079",
     "status": "completed"
    },
    "tags": []
   },
   "outputs": [],
   "source": [
    "device = torch.device(\"cuda:0\" if torch.cuda.is_available() else \"cpu\")"
   ]
  },
  {
   "cell_type": "markdown",
   "metadata": {
    "papermill": {
     "duration": 0.061713,
     "end_time": "2020-11-11T09:41:11.765863",
     "exception": false,
     "start_time": "2020-11-11T09:41:11.704150",
     "status": "completed"
    },
    "tags": []
   },
   "source": [
    "# model"
   ]
  },
  {
   "cell_type": "code",
   "execution_count": 37,
   "metadata": {
    "execution": {
     "iopub.execute_input": "2020-11-11T09:41:11.919834Z",
     "iopub.status.busy": "2020-11-11T09:41:11.917947Z",
     "iopub.status.idle": "2020-11-11T09:41:11.920579Z",
     "shell.execute_reply": "2020-11-11T09:41:11.921116Z"
    },
    "papermill": {
     "duration": 0.095208,
     "end_time": "2020-11-11T09:41:11.921236",
     "exception": false,
     "start_time": "2020-11-11T09:41:11.826028",
     "status": "completed"
    },
    "tags": []
   },
   "outputs": [],
   "source": [
    "import torch\n",
    "from torch import nn\n",
    "from torch.nn import functional as F\n",
    "from torchvision import models\n",
    "\n",
    "\n",
    "class ContextGating(nn.Module):\n",
    "    def __init__(self, input_num):\n",
    "        super(ContextGating, self).__init__()\n",
    "        self.sigmoid = nn.Sigmoid()\n",
    "        self.linear = nn.Linear(input_num, input_num)\n",
    "    \n",
    "    def forward(self, x):\n",
    "        lin = self.linear(x)\n",
    "        sig = self.sigmoid(lin)\n",
    "        res = x * sig\n",
    "        return res\n",
    "    \n",
    "\n",
    "class Visual_CNN(nn.Module):\n",
    "    def __init__(self, drop_prob=0.3, pretrained=True, num_layers=3, num_classes=3):\n",
    "        super(Visual_CNN, self).__init__()\n",
    "        \n",
    "        self.pretrained = pretrained\n",
    "        self.num_layers = num_layers\n",
    "        self.drop_prob = drop_prob\n",
    "        self.num_classes = num_classes\n",
    "        \n",
    "        # cnn resnet\n",
    "        pretrained_cnn = models.resnet101(pretrained=self.pretrained)\n",
    "        cnn_layers = list(pretrained_cnn.children())[:-1]\n",
    "        self.cnn = nn.Sequential(*cnn_layers)\n",
    "        \n",
    "        # context gating\n",
    "        self.gate = ContextGating(2048)\n",
    "        \n",
    "        # cnn as feature extractor\n",
    "        for param in self.cnn.parameters():\n",
    "            param.requires_grad = False\n",
    "        \n",
    "        # intermediate_fc\n",
    "        self.intermediate_fc = nn.Sequential(\n",
    "                nn.Linear(2048 * 2, 2048),\n",
    "                ContextGating(2048))\n",
    "        \n",
    "        # lstm\n",
    "        self.LSTM = nn.LSTM(input_size=2048, hidden_size=1024, num_layers=self.num_layers, batch_first=True)\n",
    "        self.Dropout = nn.Dropout(p=self.drop_prob)\n",
    "        self.w = nn.Parameter(torch.ones(8),requires_grad=True)\n",
    "        \n",
    "        # fc\n",
    "        self.down_fc = nn.Sequential(\n",
    "                nn.Linear(2048+1024, 2048),\n",
    "                ContextGating(2048))\n",
    "        \n",
    "        self.fc_valence = nn.Sequential(\n",
    "                nn.Linear(2048, 3),\n",
    "                ContextGating(3))\n",
    "        \n",
    "        self.fc_arousal = nn.Sequential(\n",
    "                nn.Linear(2048, 3),\n",
    "                ContextGating(3))\n",
    "        \n",
    "    \n",
    "    def forward(self, x_3d):\n",
    "        \n",
    "        cnn_embedding_out = []\n",
    "        \n",
    "        for t in range(x_3d.size(1)):\n",
    "            x = self.cnn(x_3d[:, t, :, :, :])\n",
    "            x = torch.flatten(x, start_dim=1)\n",
    "            \n",
    "            # context gating\n",
    "            x = self.gate(x)\n",
    "            cnn_embedding_out.append(x)\n",
    "        \n",
    "        frame_out = torch.stack(cnn_embedding_out, dim=0)\n",
    "        cnn_embedding_out = torch.stack(cnn_embedding_out, dim=0).transpose(0, 1)\n",
    "        \n",
    "        lstm_f = cnn_embedding_out\n",
    "        \n",
    "        # lstm\n",
    "        lstm_out, _ = self.LSTM(lstm_f)\n",
    "        vecs = []\n",
    "        seqlen = lstm_out.size(1)\n",
    "        for s in range(seqlen):\n",
    "            vec = self.Dropout(lstm_out[:, s, :]) * self.w[s]\n",
    "            vecs.append(vec)\n",
    "        \n",
    "        lstm_out = torch.stack(vecs, dim=1)\n",
    "        lstm_out = torch.mean(lstm_out, dim=1)\n",
    "        \n",
    "        # video-level mean and std\n",
    "        x1 = torch.mean(frame_out, 0)\n",
    "        tmp = frame_out.detach().cpu().numpy()\n",
    "        x2 = np.std(tmp, axis=0)\n",
    "        x2 = np.nan_to_num(x2)\n",
    "        x2 = torch.from_numpy(x2).to(device)\n",
    "        v_fea = torch.cat([x1, x2], dim=1)\n",
    "        v_fea = F.normalize(v_fea, p=2, dim=1)\n",
    "        v_fea = self.intermediate_fc(v_fea)\n",
    "        \n",
    "        # fusion\n",
    "        out = torch.cat([lstm_out, v_fea], dim=1)\n",
    "        out = F.normalize(out, p=2, dim=1)\n",
    "        out = self.down_fc(out)\n",
    "        \n",
    "        # classifier\n",
    "        valence = self.fc_valence(out)\n",
    "        arousal = self.fc_arousal(out)\n",
    "        \n",
    "        return valence, arousal"
   ]
  },
  {
   "cell_type": "code",
   "execution_count": 38,
   "metadata": {
    "execution": {
     "iopub.execute_input": "2020-11-11T09:41:12.086990Z",
     "iopub.status.busy": "2020-11-11T09:41:12.086175Z",
     "iopub.status.idle": "2020-11-11T09:41:19.145846Z",
     "shell.execute_reply": "2020-11-11T09:41:19.145236Z"
    },
    "papermill": {
     "duration": 7.12704,
     "end_time": "2020-11-11T09:41:19.145973",
     "exception": false,
     "start_time": "2020-11-11T09:41:12.018933",
     "status": "completed"
    },
    "tags": []
   },
   "outputs": [
    {
     "name": "stderr",
     "output_type": "stream",
     "text": [
      "Downloading: \"https://download.pytorch.org/models/resnet101-5d3b4d8f.pth\" to /root/.cache/torch/hub/checkpoints/resnet101-5d3b4d8f.pth\n"
     ]
    },
    {
     "data": {
      "application/vnd.jupyter.widget-view+json": {
       "model_id": "0b5a0d20d03049f8b4a2b024e2d234a3",
       "version_major": 2,
       "version_minor": 0
      },
      "text/plain": [
       "HBox(children=(FloatProgress(value=0.0, max=178728960.0), HTML(value='')))"
      ]
     },
     "metadata": {},
     "output_type": "display_data"
    },
    {
     "name": "stdout",
     "output_type": "stream",
     "text": [
      "\n"
     ]
    },
    {
     "data": {
      "text/plain": [
       "Visual_CNN(\n",
       "  (cnn): Sequential(\n",
       "    (0): Conv2d(3, 64, kernel_size=(7, 7), stride=(2, 2), padding=(3, 3), bias=False)\n",
       "    (1): BatchNorm2d(64, eps=1e-05, momentum=0.1, affine=True, track_running_stats=True)\n",
       "    (2): ReLU(inplace=True)\n",
       "    (3): MaxPool2d(kernel_size=3, stride=2, padding=1, dilation=1, ceil_mode=False)\n",
       "    (4): Sequential(\n",
       "      (0): Bottleneck(\n",
       "        (conv1): Conv2d(64, 64, kernel_size=(1, 1), stride=(1, 1), bias=False)\n",
       "        (bn1): BatchNorm2d(64, eps=1e-05, momentum=0.1, affine=True, track_running_stats=True)\n",
       "        (conv2): Conv2d(64, 64, kernel_size=(3, 3), stride=(1, 1), padding=(1, 1), bias=False)\n",
       "        (bn2): BatchNorm2d(64, eps=1e-05, momentum=0.1, affine=True, track_running_stats=True)\n",
       "        (conv3): Conv2d(64, 256, kernel_size=(1, 1), stride=(1, 1), bias=False)\n",
       "        (bn3): BatchNorm2d(256, eps=1e-05, momentum=0.1, affine=True, track_running_stats=True)\n",
       "        (relu): ReLU(inplace=True)\n",
       "        (downsample): Sequential(\n",
       "          (0): Conv2d(64, 256, kernel_size=(1, 1), stride=(1, 1), bias=False)\n",
       "          (1): BatchNorm2d(256, eps=1e-05, momentum=0.1, affine=True, track_running_stats=True)\n",
       "        )\n",
       "      )\n",
       "      (1): Bottleneck(\n",
       "        (conv1): Conv2d(256, 64, kernel_size=(1, 1), stride=(1, 1), bias=False)\n",
       "        (bn1): BatchNorm2d(64, eps=1e-05, momentum=0.1, affine=True, track_running_stats=True)\n",
       "        (conv2): Conv2d(64, 64, kernel_size=(3, 3), stride=(1, 1), padding=(1, 1), bias=False)\n",
       "        (bn2): BatchNorm2d(64, eps=1e-05, momentum=0.1, affine=True, track_running_stats=True)\n",
       "        (conv3): Conv2d(64, 256, kernel_size=(1, 1), stride=(1, 1), bias=False)\n",
       "        (bn3): BatchNorm2d(256, eps=1e-05, momentum=0.1, affine=True, track_running_stats=True)\n",
       "        (relu): ReLU(inplace=True)\n",
       "      )\n",
       "      (2): Bottleneck(\n",
       "        (conv1): Conv2d(256, 64, kernel_size=(1, 1), stride=(1, 1), bias=False)\n",
       "        (bn1): BatchNorm2d(64, eps=1e-05, momentum=0.1, affine=True, track_running_stats=True)\n",
       "        (conv2): Conv2d(64, 64, kernel_size=(3, 3), stride=(1, 1), padding=(1, 1), bias=False)\n",
       "        (bn2): BatchNorm2d(64, eps=1e-05, momentum=0.1, affine=True, track_running_stats=True)\n",
       "        (conv3): Conv2d(64, 256, kernel_size=(1, 1), stride=(1, 1), bias=False)\n",
       "        (bn3): BatchNorm2d(256, eps=1e-05, momentum=0.1, affine=True, track_running_stats=True)\n",
       "        (relu): ReLU(inplace=True)\n",
       "      )\n",
       "    )\n",
       "    (5): Sequential(\n",
       "      (0): Bottleneck(\n",
       "        (conv1): Conv2d(256, 128, kernel_size=(1, 1), stride=(1, 1), bias=False)\n",
       "        (bn1): BatchNorm2d(128, eps=1e-05, momentum=0.1, affine=True, track_running_stats=True)\n",
       "        (conv2): Conv2d(128, 128, kernel_size=(3, 3), stride=(2, 2), padding=(1, 1), bias=False)\n",
       "        (bn2): BatchNorm2d(128, eps=1e-05, momentum=0.1, affine=True, track_running_stats=True)\n",
       "        (conv3): Conv2d(128, 512, kernel_size=(1, 1), stride=(1, 1), bias=False)\n",
       "        (bn3): BatchNorm2d(512, eps=1e-05, momentum=0.1, affine=True, track_running_stats=True)\n",
       "        (relu): ReLU(inplace=True)\n",
       "        (downsample): Sequential(\n",
       "          (0): Conv2d(256, 512, kernel_size=(1, 1), stride=(2, 2), bias=False)\n",
       "          (1): BatchNorm2d(512, eps=1e-05, momentum=0.1, affine=True, track_running_stats=True)\n",
       "        )\n",
       "      )\n",
       "      (1): Bottleneck(\n",
       "        (conv1): Conv2d(512, 128, kernel_size=(1, 1), stride=(1, 1), bias=False)\n",
       "        (bn1): BatchNorm2d(128, eps=1e-05, momentum=0.1, affine=True, track_running_stats=True)\n",
       "        (conv2): Conv2d(128, 128, kernel_size=(3, 3), stride=(1, 1), padding=(1, 1), bias=False)\n",
       "        (bn2): BatchNorm2d(128, eps=1e-05, momentum=0.1, affine=True, track_running_stats=True)\n",
       "        (conv3): Conv2d(128, 512, kernel_size=(1, 1), stride=(1, 1), bias=False)\n",
       "        (bn3): BatchNorm2d(512, eps=1e-05, momentum=0.1, affine=True, track_running_stats=True)\n",
       "        (relu): ReLU(inplace=True)\n",
       "      )\n",
       "      (2): Bottleneck(\n",
       "        (conv1): Conv2d(512, 128, kernel_size=(1, 1), stride=(1, 1), bias=False)\n",
       "        (bn1): BatchNorm2d(128, eps=1e-05, momentum=0.1, affine=True, track_running_stats=True)\n",
       "        (conv2): Conv2d(128, 128, kernel_size=(3, 3), stride=(1, 1), padding=(1, 1), bias=False)\n",
       "        (bn2): BatchNorm2d(128, eps=1e-05, momentum=0.1, affine=True, track_running_stats=True)\n",
       "        (conv3): Conv2d(128, 512, kernel_size=(1, 1), stride=(1, 1), bias=False)\n",
       "        (bn3): BatchNorm2d(512, eps=1e-05, momentum=0.1, affine=True, track_running_stats=True)\n",
       "        (relu): ReLU(inplace=True)\n",
       "      )\n",
       "      (3): Bottleneck(\n",
       "        (conv1): Conv2d(512, 128, kernel_size=(1, 1), stride=(1, 1), bias=False)\n",
       "        (bn1): BatchNorm2d(128, eps=1e-05, momentum=0.1, affine=True, track_running_stats=True)\n",
       "        (conv2): Conv2d(128, 128, kernel_size=(3, 3), stride=(1, 1), padding=(1, 1), bias=False)\n",
       "        (bn2): BatchNorm2d(128, eps=1e-05, momentum=0.1, affine=True, track_running_stats=True)\n",
       "        (conv3): Conv2d(128, 512, kernel_size=(1, 1), stride=(1, 1), bias=False)\n",
       "        (bn3): BatchNorm2d(512, eps=1e-05, momentum=0.1, affine=True, track_running_stats=True)\n",
       "        (relu): ReLU(inplace=True)\n",
       "      )\n",
       "    )\n",
       "    (6): Sequential(\n",
       "      (0): Bottleneck(\n",
       "        (conv1): Conv2d(512, 256, kernel_size=(1, 1), stride=(1, 1), bias=False)\n",
       "        (bn1): BatchNorm2d(256, eps=1e-05, momentum=0.1, affine=True, track_running_stats=True)\n",
       "        (conv2): Conv2d(256, 256, kernel_size=(3, 3), stride=(2, 2), padding=(1, 1), bias=False)\n",
       "        (bn2): BatchNorm2d(256, eps=1e-05, momentum=0.1, affine=True, track_running_stats=True)\n",
       "        (conv3): Conv2d(256, 1024, kernel_size=(1, 1), stride=(1, 1), bias=False)\n",
       "        (bn3): BatchNorm2d(1024, eps=1e-05, momentum=0.1, affine=True, track_running_stats=True)\n",
       "        (relu): ReLU(inplace=True)\n",
       "        (downsample): Sequential(\n",
       "          (0): Conv2d(512, 1024, kernel_size=(1, 1), stride=(2, 2), bias=False)\n",
       "          (1): BatchNorm2d(1024, eps=1e-05, momentum=0.1, affine=True, track_running_stats=True)\n",
       "        )\n",
       "      )\n",
       "      (1): Bottleneck(\n",
       "        (conv1): Conv2d(1024, 256, kernel_size=(1, 1), stride=(1, 1), bias=False)\n",
       "        (bn1): BatchNorm2d(256, eps=1e-05, momentum=0.1, affine=True, track_running_stats=True)\n",
       "        (conv2): Conv2d(256, 256, kernel_size=(3, 3), stride=(1, 1), padding=(1, 1), bias=False)\n",
       "        (bn2): BatchNorm2d(256, eps=1e-05, momentum=0.1, affine=True, track_running_stats=True)\n",
       "        (conv3): Conv2d(256, 1024, kernel_size=(1, 1), stride=(1, 1), bias=False)\n",
       "        (bn3): BatchNorm2d(1024, eps=1e-05, momentum=0.1, affine=True, track_running_stats=True)\n",
       "        (relu): ReLU(inplace=True)\n",
       "      )\n",
       "      (2): Bottleneck(\n",
       "        (conv1): Conv2d(1024, 256, kernel_size=(1, 1), stride=(1, 1), bias=False)\n",
       "        (bn1): BatchNorm2d(256, eps=1e-05, momentum=0.1, affine=True, track_running_stats=True)\n",
       "        (conv2): Conv2d(256, 256, kernel_size=(3, 3), stride=(1, 1), padding=(1, 1), bias=False)\n",
       "        (bn2): BatchNorm2d(256, eps=1e-05, momentum=0.1, affine=True, track_running_stats=True)\n",
       "        (conv3): Conv2d(256, 1024, kernel_size=(1, 1), stride=(1, 1), bias=False)\n",
       "        (bn3): BatchNorm2d(1024, eps=1e-05, momentum=0.1, affine=True, track_running_stats=True)\n",
       "        (relu): ReLU(inplace=True)\n",
       "      )\n",
       "      (3): Bottleneck(\n",
       "        (conv1): Conv2d(1024, 256, kernel_size=(1, 1), stride=(1, 1), bias=False)\n",
       "        (bn1): BatchNorm2d(256, eps=1e-05, momentum=0.1, affine=True, track_running_stats=True)\n",
       "        (conv2): Conv2d(256, 256, kernel_size=(3, 3), stride=(1, 1), padding=(1, 1), bias=False)\n",
       "        (bn2): BatchNorm2d(256, eps=1e-05, momentum=0.1, affine=True, track_running_stats=True)\n",
       "        (conv3): Conv2d(256, 1024, kernel_size=(1, 1), stride=(1, 1), bias=False)\n",
       "        (bn3): BatchNorm2d(1024, eps=1e-05, momentum=0.1, affine=True, track_running_stats=True)\n",
       "        (relu): ReLU(inplace=True)\n",
       "      )\n",
       "      (4): Bottleneck(\n",
       "        (conv1): Conv2d(1024, 256, kernel_size=(1, 1), stride=(1, 1), bias=False)\n",
       "        (bn1): BatchNorm2d(256, eps=1e-05, momentum=0.1, affine=True, track_running_stats=True)\n",
       "        (conv2): Conv2d(256, 256, kernel_size=(3, 3), stride=(1, 1), padding=(1, 1), bias=False)\n",
       "        (bn2): BatchNorm2d(256, eps=1e-05, momentum=0.1, affine=True, track_running_stats=True)\n",
       "        (conv3): Conv2d(256, 1024, kernel_size=(1, 1), stride=(1, 1), bias=False)\n",
       "        (bn3): BatchNorm2d(1024, eps=1e-05, momentum=0.1, affine=True, track_running_stats=True)\n",
       "        (relu): ReLU(inplace=True)\n",
       "      )\n",
       "      (5): Bottleneck(\n",
       "        (conv1): Conv2d(1024, 256, kernel_size=(1, 1), stride=(1, 1), bias=False)\n",
       "        (bn1): BatchNorm2d(256, eps=1e-05, momentum=0.1, affine=True, track_running_stats=True)\n",
       "        (conv2): Conv2d(256, 256, kernel_size=(3, 3), stride=(1, 1), padding=(1, 1), bias=False)\n",
       "        (bn2): BatchNorm2d(256, eps=1e-05, momentum=0.1, affine=True, track_running_stats=True)\n",
       "        (conv3): Conv2d(256, 1024, kernel_size=(1, 1), stride=(1, 1), bias=False)\n",
       "        (bn3): BatchNorm2d(1024, eps=1e-05, momentum=0.1, affine=True, track_running_stats=True)\n",
       "        (relu): ReLU(inplace=True)\n",
       "      )\n",
       "      (6): Bottleneck(\n",
       "        (conv1): Conv2d(1024, 256, kernel_size=(1, 1), stride=(1, 1), bias=False)\n",
       "        (bn1): BatchNorm2d(256, eps=1e-05, momentum=0.1, affine=True, track_running_stats=True)\n",
       "        (conv2): Conv2d(256, 256, kernel_size=(3, 3), stride=(1, 1), padding=(1, 1), bias=False)\n",
       "        (bn2): BatchNorm2d(256, eps=1e-05, momentum=0.1, affine=True, track_running_stats=True)\n",
       "        (conv3): Conv2d(256, 1024, kernel_size=(1, 1), stride=(1, 1), bias=False)\n",
       "        (bn3): BatchNorm2d(1024, eps=1e-05, momentum=0.1, affine=True, track_running_stats=True)\n",
       "        (relu): ReLU(inplace=True)\n",
       "      )\n",
       "      (7): Bottleneck(\n",
       "        (conv1): Conv2d(1024, 256, kernel_size=(1, 1), stride=(1, 1), bias=False)\n",
       "        (bn1): BatchNorm2d(256, eps=1e-05, momentum=0.1, affine=True, track_running_stats=True)\n",
       "        (conv2): Conv2d(256, 256, kernel_size=(3, 3), stride=(1, 1), padding=(1, 1), bias=False)\n",
       "        (bn2): BatchNorm2d(256, eps=1e-05, momentum=0.1, affine=True, track_running_stats=True)\n",
       "        (conv3): Conv2d(256, 1024, kernel_size=(1, 1), stride=(1, 1), bias=False)\n",
       "        (bn3): BatchNorm2d(1024, eps=1e-05, momentum=0.1, affine=True, track_running_stats=True)\n",
       "        (relu): ReLU(inplace=True)\n",
       "      )\n",
       "      (8): Bottleneck(\n",
       "        (conv1): Conv2d(1024, 256, kernel_size=(1, 1), stride=(1, 1), bias=False)\n",
       "        (bn1): BatchNorm2d(256, eps=1e-05, momentum=0.1, affine=True, track_running_stats=True)\n",
       "        (conv2): Conv2d(256, 256, kernel_size=(3, 3), stride=(1, 1), padding=(1, 1), bias=False)\n",
       "        (bn2): BatchNorm2d(256, eps=1e-05, momentum=0.1, affine=True, track_running_stats=True)\n",
       "        (conv3): Conv2d(256, 1024, kernel_size=(1, 1), stride=(1, 1), bias=False)\n",
       "        (bn3): BatchNorm2d(1024, eps=1e-05, momentum=0.1, affine=True, track_running_stats=True)\n",
       "        (relu): ReLU(inplace=True)\n",
       "      )\n",
       "      (9): Bottleneck(\n",
       "        (conv1): Conv2d(1024, 256, kernel_size=(1, 1), stride=(1, 1), bias=False)\n",
       "        (bn1): BatchNorm2d(256, eps=1e-05, momentum=0.1, affine=True, track_running_stats=True)\n",
       "        (conv2): Conv2d(256, 256, kernel_size=(3, 3), stride=(1, 1), padding=(1, 1), bias=False)\n",
       "        (bn2): BatchNorm2d(256, eps=1e-05, momentum=0.1, affine=True, track_running_stats=True)\n",
       "        (conv3): Conv2d(256, 1024, kernel_size=(1, 1), stride=(1, 1), bias=False)\n",
       "        (bn3): BatchNorm2d(1024, eps=1e-05, momentum=0.1, affine=True, track_running_stats=True)\n",
       "        (relu): ReLU(inplace=True)\n",
       "      )\n",
       "      (10): Bottleneck(\n",
       "        (conv1): Conv2d(1024, 256, kernel_size=(1, 1), stride=(1, 1), bias=False)\n",
       "        (bn1): BatchNorm2d(256, eps=1e-05, momentum=0.1, affine=True, track_running_stats=True)\n",
       "        (conv2): Conv2d(256, 256, kernel_size=(3, 3), stride=(1, 1), padding=(1, 1), bias=False)\n",
       "        (bn2): BatchNorm2d(256, eps=1e-05, momentum=0.1, affine=True, track_running_stats=True)\n",
       "        (conv3): Conv2d(256, 1024, kernel_size=(1, 1), stride=(1, 1), bias=False)\n",
       "        (bn3): BatchNorm2d(1024, eps=1e-05, momentum=0.1, affine=True, track_running_stats=True)\n",
       "        (relu): ReLU(inplace=True)\n",
       "      )\n",
       "      (11): Bottleneck(\n",
       "        (conv1): Conv2d(1024, 256, kernel_size=(1, 1), stride=(1, 1), bias=False)\n",
       "        (bn1): BatchNorm2d(256, eps=1e-05, momentum=0.1, affine=True, track_running_stats=True)\n",
       "        (conv2): Conv2d(256, 256, kernel_size=(3, 3), stride=(1, 1), padding=(1, 1), bias=False)\n",
       "        (bn2): BatchNorm2d(256, eps=1e-05, momentum=0.1, affine=True, track_running_stats=True)\n",
       "        (conv3): Conv2d(256, 1024, kernel_size=(1, 1), stride=(1, 1), bias=False)\n",
       "        (bn3): BatchNorm2d(1024, eps=1e-05, momentum=0.1, affine=True, track_running_stats=True)\n",
       "        (relu): ReLU(inplace=True)\n",
       "      )\n",
       "      (12): Bottleneck(\n",
       "        (conv1): Conv2d(1024, 256, kernel_size=(1, 1), stride=(1, 1), bias=False)\n",
       "        (bn1): BatchNorm2d(256, eps=1e-05, momentum=0.1, affine=True, track_running_stats=True)\n",
       "        (conv2): Conv2d(256, 256, kernel_size=(3, 3), stride=(1, 1), padding=(1, 1), bias=False)\n",
       "        (bn2): BatchNorm2d(256, eps=1e-05, momentum=0.1, affine=True, track_running_stats=True)\n",
       "        (conv3): Conv2d(256, 1024, kernel_size=(1, 1), stride=(1, 1), bias=False)\n",
       "        (bn3): BatchNorm2d(1024, eps=1e-05, momentum=0.1, affine=True, track_running_stats=True)\n",
       "        (relu): ReLU(inplace=True)\n",
       "      )\n",
       "      (13): Bottleneck(\n",
       "        (conv1): Conv2d(1024, 256, kernel_size=(1, 1), stride=(1, 1), bias=False)\n",
       "        (bn1): BatchNorm2d(256, eps=1e-05, momentum=0.1, affine=True, track_running_stats=True)\n",
       "        (conv2): Conv2d(256, 256, kernel_size=(3, 3), stride=(1, 1), padding=(1, 1), bias=False)\n",
       "        (bn2): BatchNorm2d(256, eps=1e-05, momentum=0.1, affine=True, track_running_stats=True)\n",
       "        (conv3): Conv2d(256, 1024, kernel_size=(1, 1), stride=(1, 1), bias=False)\n",
       "        (bn3): BatchNorm2d(1024, eps=1e-05, momentum=0.1, affine=True, track_running_stats=True)\n",
       "        (relu): ReLU(inplace=True)\n",
       "      )\n",
       "      (14): Bottleneck(\n",
       "        (conv1): Conv2d(1024, 256, kernel_size=(1, 1), stride=(1, 1), bias=False)\n",
       "        (bn1): BatchNorm2d(256, eps=1e-05, momentum=0.1, affine=True, track_running_stats=True)\n",
       "        (conv2): Conv2d(256, 256, kernel_size=(3, 3), stride=(1, 1), padding=(1, 1), bias=False)\n",
       "        (bn2): BatchNorm2d(256, eps=1e-05, momentum=0.1, affine=True, track_running_stats=True)\n",
       "        (conv3): Conv2d(256, 1024, kernel_size=(1, 1), stride=(1, 1), bias=False)\n",
       "        (bn3): BatchNorm2d(1024, eps=1e-05, momentum=0.1, affine=True, track_running_stats=True)\n",
       "        (relu): ReLU(inplace=True)\n",
       "      )\n",
       "      (15): Bottleneck(\n",
       "        (conv1): Conv2d(1024, 256, kernel_size=(1, 1), stride=(1, 1), bias=False)\n",
       "        (bn1): BatchNorm2d(256, eps=1e-05, momentum=0.1, affine=True, track_running_stats=True)\n",
       "        (conv2): Conv2d(256, 256, kernel_size=(3, 3), stride=(1, 1), padding=(1, 1), bias=False)\n",
       "        (bn2): BatchNorm2d(256, eps=1e-05, momentum=0.1, affine=True, track_running_stats=True)\n",
       "        (conv3): Conv2d(256, 1024, kernel_size=(1, 1), stride=(1, 1), bias=False)\n",
       "        (bn3): BatchNorm2d(1024, eps=1e-05, momentum=0.1, affine=True, track_running_stats=True)\n",
       "        (relu): ReLU(inplace=True)\n",
       "      )\n",
       "      (16): Bottleneck(\n",
       "        (conv1): Conv2d(1024, 256, kernel_size=(1, 1), stride=(1, 1), bias=False)\n",
       "        (bn1): BatchNorm2d(256, eps=1e-05, momentum=0.1, affine=True, track_running_stats=True)\n",
       "        (conv2): Conv2d(256, 256, kernel_size=(3, 3), stride=(1, 1), padding=(1, 1), bias=False)\n",
       "        (bn2): BatchNorm2d(256, eps=1e-05, momentum=0.1, affine=True, track_running_stats=True)\n",
       "        (conv3): Conv2d(256, 1024, kernel_size=(1, 1), stride=(1, 1), bias=False)\n",
       "        (bn3): BatchNorm2d(1024, eps=1e-05, momentum=0.1, affine=True, track_running_stats=True)\n",
       "        (relu): ReLU(inplace=True)\n",
       "      )\n",
       "      (17): Bottleneck(\n",
       "        (conv1): Conv2d(1024, 256, kernel_size=(1, 1), stride=(1, 1), bias=False)\n",
       "        (bn1): BatchNorm2d(256, eps=1e-05, momentum=0.1, affine=True, track_running_stats=True)\n",
       "        (conv2): Conv2d(256, 256, kernel_size=(3, 3), stride=(1, 1), padding=(1, 1), bias=False)\n",
       "        (bn2): BatchNorm2d(256, eps=1e-05, momentum=0.1, affine=True, track_running_stats=True)\n",
       "        (conv3): Conv2d(256, 1024, kernel_size=(1, 1), stride=(1, 1), bias=False)\n",
       "        (bn3): BatchNorm2d(1024, eps=1e-05, momentum=0.1, affine=True, track_running_stats=True)\n",
       "        (relu): ReLU(inplace=True)\n",
       "      )\n",
       "      (18): Bottleneck(\n",
       "        (conv1): Conv2d(1024, 256, kernel_size=(1, 1), stride=(1, 1), bias=False)\n",
       "        (bn1): BatchNorm2d(256, eps=1e-05, momentum=0.1, affine=True, track_running_stats=True)\n",
       "        (conv2): Conv2d(256, 256, kernel_size=(3, 3), stride=(1, 1), padding=(1, 1), bias=False)\n",
       "        (bn2): BatchNorm2d(256, eps=1e-05, momentum=0.1, affine=True, track_running_stats=True)\n",
       "        (conv3): Conv2d(256, 1024, kernel_size=(1, 1), stride=(1, 1), bias=False)\n",
       "        (bn3): BatchNorm2d(1024, eps=1e-05, momentum=0.1, affine=True, track_running_stats=True)\n",
       "        (relu): ReLU(inplace=True)\n",
       "      )\n",
       "      (19): Bottleneck(\n",
       "        (conv1): Conv2d(1024, 256, kernel_size=(1, 1), stride=(1, 1), bias=False)\n",
       "        (bn1): BatchNorm2d(256, eps=1e-05, momentum=0.1, affine=True, track_running_stats=True)\n",
       "        (conv2): Conv2d(256, 256, kernel_size=(3, 3), stride=(1, 1), padding=(1, 1), bias=False)\n",
       "        (bn2): BatchNorm2d(256, eps=1e-05, momentum=0.1, affine=True, track_running_stats=True)\n",
       "        (conv3): Conv2d(256, 1024, kernel_size=(1, 1), stride=(1, 1), bias=False)\n",
       "        (bn3): BatchNorm2d(1024, eps=1e-05, momentum=0.1, affine=True, track_running_stats=True)\n",
       "        (relu): ReLU(inplace=True)\n",
       "      )\n",
       "      (20): Bottleneck(\n",
       "        (conv1): Conv2d(1024, 256, kernel_size=(1, 1), stride=(1, 1), bias=False)\n",
       "        (bn1): BatchNorm2d(256, eps=1e-05, momentum=0.1, affine=True, track_running_stats=True)\n",
       "        (conv2): Conv2d(256, 256, kernel_size=(3, 3), stride=(1, 1), padding=(1, 1), bias=False)\n",
       "        (bn2): BatchNorm2d(256, eps=1e-05, momentum=0.1, affine=True, track_running_stats=True)\n",
       "        (conv3): Conv2d(256, 1024, kernel_size=(1, 1), stride=(1, 1), bias=False)\n",
       "        (bn3): BatchNorm2d(1024, eps=1e-05, momentum=0.1, affine=True, track_running_stats=True)\n",
       "        (relu): ReLU(inplace=True)\n",
       "      )\n",
       "      (21): Bottleneck(\n",
       "        (conv1): Conv2d(1024, 256, kernel_size=(1, 1), stride=(1, 1), bias=False)\n",
       "        (bn1): BatchNorm2d(256, eps=1e-05, momentum=0.1, affine=True, track_running_stats=True)\n",
       "        (conv2): Conv2d(256, 256, kernel_size=(3, 3), stride=(1, 1), padding=(1, 1), bias=False)\n",
       "        (bn2): BatchNorm2d(256, eps=1e-05, momentum=0.1, affine=True, track_running_stats=True)\n",
       "        (conv3): Conv2d(256, 1024, kernel_size=(1, 1), stride=(1, 1), bias=False)\n",
       "        (bn3): BatchNorm2d(1024, eps=1e-05, momentum=0.1, affine=True, track_running_stats=True)\n",
       "        (relu): ReLU(inplace=True)\n",
       "      )\n",
       "      (22): Bottleneck(\n",
       "        (conv1): Conv2d(1024, 256, kernel_size=(1, 1), stride=(1, 1), bias=False)\n",
       "        (bn1): BatchNorm2d(256, eps=1e-05, momentum=0.1, affine=True, track_running_stats=True)\n",
       "        (conv2): Conv2d(256, 256, kernel_size=(3, 3), stride=(1, 1), padding=(1, 1), bias=False)\n",
       "        (bn2): BatchNorm2d(256, eps=1e-05, momentum=0.1, affine=True, track_running_stats=True)\n",
       "        (conv3): Conv2d(256, 1024, kernel_size=(1, 1), stride=(1, 1), bias=False)\n",
       "        (bn3): BatchNorm2d(1024, eps=1e-05, momentum=0.1, affine=True, track_running_stats=True)\n",
       "        (relu): ReLU(inplace=True)\n",
       "      )\n",
       "    )\n",
       "    (7): Sequential(\n",
       "      (0): Bottleneck(\n",
       "        (conv1): Conv2d(1024, 512, kernel_size=(1, 1), stride=(1, 1), bias=False)\n",
       "        (bn1): BatchNorm2d(512, eps=1e-05, momentum=0.1, affine=True, track_running_stats=True)\n",
       "        (conv2): Conv2d(512, 512, kernel_size=(3, 3), stride=(2, 2), padding=(1, 1), bias=False)\n",
       "        (bn2): BatchNorm2d(512, eps=1e-05, momentum=0.1, affine=True, track_running_stats=True)\n",
       "        (conv3): Conv2d(512, 2048, kernel_size=(1, 1), stride=(1, 1), bias=False)\n",
       "        (bn3): BatchNorm2d(2048, eps=1e-05, momentum=0.1, affine=True, track_running_stats=True)\n",
       "        (relu): ReLU(inplace=True)\n",
       "        (downsample): Sequential(\n",
       "          (0): Conv2d(1024, 2048, kernel_size=(1, 1), stride=(2, 2), bias=False)\n",
       "          (1): BatchNorm2d(2048, eps=1e-05, momentum=0.1, affine=True, track_running_stats=True)\n",
       "        )\n",
       "      )\n",
       "      (1): Bottleneck(\n",
       "        (conv1): Conv2d(2048, 512, kernel_size=(1, 1), stride=(1, 1), bias=False)\n",
       "        (bn1): BatchNorm2d(512, eps=1e-05, momentum=0.1, affine=True, track_running_stats=True)\n",
       "        (conv2): Conv2d(512, 512, kernel_size=(3, 3), stride=(1, 1), padding=(1, 1), bias=False)\n",
       "        (bn2): BatchNorm2d(512, eps=1e-05, momentum=0.1, affine=True, track_running_stats=True)\n",
       "        (conv3): Conv2d(512, 2048, kernel_size=(1, 1), stride=(1, 1), bias=False)\n",
       "        (bn3): BatchNorm2d(2048, eps=1e-05, momentum=0.1, affine=True, track_running_stats=True)\n",
       "        (relu): ReLU(inplace=True)\n",
       "      )\n",
       "      (2): Bottleneck(\n",
       "        (conv1): Conv2d(2048, 512, kernel_size=(1, 1), stride=(1, 1), bias=False)\n",
       "        (bn1): BatchNorm2d(512, eps=1e-05, momentum=0.1, affine=True, track_running_stats=True)\n",
       "        (conv2): Conv2d(512, 512, kernel_size=(3, 3), stride=(1, 1), padding=(1, 1), bias=False)\n",
       "        (bn2): BatchNorm2d(512, eps=1e-05, momentum=0.1, affine=True, track_running_stats=True)\n",
       "        (conv3): Conv2d(512, 2048, kernel_size=(1, 1), stride=(1, 1), bias=False)\n",
       "        (bn3): BatchNorm2d(2048, eps=1e-05, momentum=0.1, affine=True, track_running_stats=True)\n",
       "        (relu): ReLU(inplace=True)\n",
       "      )\n",
       "    )\n",
       "    (8): AdaptiveAvgPool2d(output_size=(1, 1))\n",
       "  )\n",
       "  (gate): ContextGating(\n",
       "    (sigmoid): Sigmoid()\n",
       "    (linear): Linear(in_features=2048, out_features=2048, bias=True)\n",
       "  )\n",
       "  (intermediate_fc): Sequential(\n",
       "    (0): Linear(in_features=4096, out_features=2048, bias=True)\n",
       "    (1): ContextGating(\n",
       "      (sigmoid): Sigmoid()\n",
       "      (linear): Linear(in_features=2048, out_features=2048, bias=True)\n",
       "    )\n",
       "  )\n",
       "  (LSTM): LSTM(2048, 1024, num_layers=3, batch_first=True)\n",
       "  (Dropout): Dropout(p=0.3, inplace=False)\n",
       "  (down_fc): Sequential(\n",
       "    (0): Linear(in_features=3072, out_features=2048, bias=True)\n",
       "    (1): ContextGating(\n",
       "      (sigmoid): Sigmoid()\n",
       "      (linear): Linear(in_features=2048, out_features=2048, bias=True)\n",
       "    )\n",
       "  )\n",
       "  (fc_valence): Sequential(\n",
       "    (0): Linear(in_features=2048, out_features=3, bias=True)\n",
       "    (1): ContextGating(\n",
       "      (sigmoid): Sigmoid()\n",
       "      (linear): Linear(in_features=3, out_features=3, bias=True)\n",
       "    )\n",
       "  )\n",
       "  (fc_arousal): Sequential(\n",
       "    (0): Linear(in_features=2048, out_features=3, bias=True)\n",
       "    (1): ContextGating(\n",
       "      (sigmoid): Sigmoid()\n",
       "      (linear): Linear(in_features=3, out_features=3, bias=True)\n",
       "    )\n",
       "  )\n",
       ")"
      ]
     },
     "execution_count": 38,
     "metadata": {},
     "output_type": "execute_result"
    }
   ],
   "source": [
    "model = Visual_CNN()\n",
    "model.to(device)\n",
    "model"
   ]
  },
  {
   "cell_type": "code",
   "execution_count": 39,
   "metadata": {
    "execution": {
     "iopub.execute_input": "2020-11-11T09:41:19.293575Z",
     "iopub.status.busy": "2020-11-11T09:41:19.292788Z",
     "iopub.status.idle": "2020-11-11T09:41:19.295356Z",
     "shell.execute_reply": "2020-11-11T09:41:19.295831Z"
    },
    "papermill": {
     "duration": 0.07482,
     "end_time": "2020-11-11T09:41:19.295965",
     "exception": false,
     "start_time": "2020-11-11T09:41:19.221145",
     "status": "completed"
    },
    "tags": []
   },
   "outputs": [],
   "source": [
    "# calculate accuracy\n",
    "def calculat_acc(output, target):\n",
    "    output = nn.functional.softmax(output, dim=1)\n",
    "    output = torch.argmax(output, dim=1)\n",
    "    return (output == target).float().mean()"
   ]
  },
  {
   "cell_type": "code",
   "execution_count": 40,
   "metadata": {
    "execution": {
     "iopub.execute_input": "2020-11-11T09:41:19.433049Z",
     "iopub.status.busy": "2020-11-11T09:41:19.432241Z",
     "iopub.status.idle": "2020-11-11T09:41:19.452533Z",
     "shell.execute_reply": "2020-11-11T09:41:19.451937Z"
    },
    "papermill": {
     "duration": 0.090367,
     "end_time": "2020-11-11T09:41:19.452657",
     "exception": false,
     "start_time": "2020-11-11T09:41:19.362290",
     "status": "completed"
    },
    "tags": []
   },
   "outputs": [
    {
     "data": {
      "text/plain": [
       "[0.1296080601083177, 0.129683162928429, 0.13478214101892214]"
      ]
     },
     "execution_count": 40,
     "metadata": {},
     "output_type": "execute_result"
    }
   ],
   "source": [
    "# valence class weights\n",
    "w1, w2, w3 = 1. / np.log(data_t['v_class'].value_counts())\n",
    "weights_v = [w1, w2 ,w3]\n",
    "weights_v"
   ]
  },
  {
   "cell_type": "code",
   "execution_count": 41,
   "metadata": {
    "execution": {
     "iopub.execute_input": "2020-11-11T09:41:19.586698Z",
     "iopub.status.busy": "2020-11-11T09:41:19.585827Z",
     "iopub.status.idle": "2020-11-11T09:41:19.592445Z",
     "shell.execute_reply": "2020-11-11T09:41:19.591960Z"
    },
    "papermill": {
     "duration": 0.075861,
     "end_time": "2020-11-11T09:41:19.592549",
     "exception": false,
     "start_time": "2020-11-11T09:41:19.516688",
     "status": "completed"
    },
    "tags": []
   },
   "outputs": [
    {
     "data": {
      "text/plain": [
       "[0.12108470346656956, 0.13778455188364686, 0.14789458520859397]"
      ]
     },
     "execution_count": 41,
     "metadata": {},
     "output_type": "execute_result"
    }
   ],
   "source": [
    "#arousal class weights\n",
    "w11, w22, w33 = 1. / np.log(data_t['a_class'].value_counts())\n",
    "weights_a = [w11, w22 ,w33]\n",
    "weights_a"
   ]
  },
  {
   "cell_type": "markdown",
   "metadata": {
    "papermill": {
     "duration": 0.06367,
     "end_time": "2020-11-11T09:41:19.720678",
     "exception": false,
     "start_time": "2020-11-11T09:41:19.657008",
     "status": "completed"
    },
    "tags": []
   },
   "source": [
    "# train"
   ]
  },
  {
   "cell_type": "code",
   "execution_count": 42,
   "metadata": {
    "execution": {
     "iopub.execute_input": "2020-11-11T09:41:19.866814Z",
     "iopub.status.busy": "2020-11-11T09:41:19.856468Z",
     "iopub.status.idle": "2020-11-11T10:18:55.378093Z",
     "shell.execute_reply": "2020-11-11T10:18:55.377429Z"
    },
    "papermill": {
     "duration": 2255.59362,
     "end_time": "2020-11-11T10:18:55.378252",
     "exception": false,
     "start_time": "2020-11-11T09:41:19.784632",
     "status": "completed"
    },
    "tags": []
   },
   "outputs": [
    {
     "name": "stderr",
     "output_type": "stream",
     "text": [
      "  0%|          | 0/345 [00:00<?, ?it/s]"
     ]
    },
    {
     "name": "stdout",
     "output_type": "stream",
     "text": [
      "Epoch: 1\n"
     ]
    },
    {
     "name": "stderr",
     "output_type": "stream",
     "text": [
      "100%|██████████| 345/345 [03:32<00:00,  1.62it/s]\n",
      "  0%|          | 0/38 [00:00<?, ?it/s]"
     ]
    },
    {
     "name": "stdout",
     "output_type": "stream",
     "text": [
      "train_loss: 2.045\n"
     ]
    },
    {
     "name": "stderr",
     "output_type": "stream",
     "text": [
      "100%|██████████| 38/38 [00:22<00:00,  1.72it/s]\n"
     ]
    },
    {
     "name": "stdout",
     "output_type": "stream",
     "text": [
      "valid_loss: 1.998|valid_acc_v: 0.4112|valid_acc_a: 0.625\n"
     ]
    },
    {
     "name": "stderr",
     "output_type": "stream",
     "text": [
      "  0%|          | 0/345 [00:00<?, ?it/s]"
     ]
    },
    {
     "name": "stdout",
     "output_type": "stream",
     "text": [
      "Epoch: 2\n"
     ]
    },
    {
     "name": "stderr",
     "output_type": "stream",
     "text": [
      "100%|██████████| 345/345 [03:19<00:00,  1.73it/s]\n",
      "  0%|          | 0/38 [00:00<?, ?it/s]"
     ]
    },
    {
     "name": "stdout",
     "output_type": "stream",
     "text": [
      "train_loss: 1.983\n"
     ]
    },
    {
     "name": "stderr",
     "output_type": "stream",
     "text": [
      "100%|██████████| 38/38 [00:21<00:00,  1.79it/s]\n"
     ]
    },
    {
     "name": "stdout",
     "output_type": "stream",
     "text": [
      "valid_loss: 1.975|valid_acc_v: 0.4342|valid_acc_a: 0.6266\n"
     ]
    },
    {
     "name": "stderr",
     "output_type": "stream",
     "text": [
      "  0%|          | 0/345 [00:00<?, ?it/s]"
     ]
    },
    {
     "name": "stdout",
     "output_type": "stream",
     "text": [
      "Epoch: 3\n"
     ]
    },
    {
     "name": "stderr",
     "output_type": "stream",
     "text": [
      "100%|██████████| 345/345 [03:19<00:00,  1.73it/s]\n",
      "  0%|          | 0/38 [00:00<?, ?it/s]"
     ]
    },
    {
     "name": "stdout",
     "output_type": "stream",
     "text": [
      "train_loss: 1.965\n"
     ]
    },
    {
     "name": "stderr",
     "output_type": "stream",
     "text": [
      "100%|██████████| 38/38 [00:21<00:00,  1.78it/s]\n"
     ]
    },
    {
     "name": "stdout",
     "output_type": "stream",
     "text": [
      "valid_loss: 1.968|valid_acc_v: 0.4359|valid_acc_a: 0.6299\n"
     ]
    },
    {
     "name": "stderr",
     "output_type": "stream",
     "text": [
      "  0%|          | 0/345 [00:00<?, ?it/s]"
     ]
    },
    {
     "name": "stdout",
     "output_type": "stream",
     "text": [
      "Epoch: 4\n"
     ]
    },
    {
     "name": "stderr",
     "output_type": "stream",
     "text": [
      "100%|██████████| 345/345 [03:19<00:00,  1.73it/s]\n",
      "  0%|          | 0/38 [00:00<?, ?it/s]"
     ]
    },
    {
     "name": "stdout",
     "output_type": "stream",
     "text": [
      "train_loss: 1.957\n"
     ]
    },
    {
     "name": "stderr",
     "output_type": "stream",
     "text": [
      "100%|██████████| 38/38 [00:20<00:00,  1.83it/s]\n"
     ]
    },
    {
     "name": "stdout",
     "output_type": "stream",
     "text": [
      "valid_loss: 1.962|valid_acc_v: 0.4408|valid_acc_a: 0.6382\n"
     ]
    },
    {
     "name": "stderr",
     "output_type": "stream",
     "text": [
      "  0%|          | 0/345 [00:00<?, ?it/s]"
     ]
    },
    {
     "name": "stdout",
     "output_type": "stream",
     "text": [
      "Epoch: 5\n"
     ]
    },
    {
     "name": "stderr",
     "output_type": "stream",
     "text": [
      "100%|██████████| 345/345 [03:22<00:00,  1.70it/s]\n",
      "  0%|          | 0/38 [00:00<?, ?it/s]"
     ]
    },
    {
     "name": "stdout",
     "output_type": "stream",
     "text": [
      "train_loss: 1.935\n"
     ]
    },
    {
     "name": "stderr",
     "output_type": "stream",
     "text": [
      "100%|██████████| 38/38 [00:21<00:00,  1.81it/s]\n"
     ]
    },
    {
     "name": "stdout",
     "output_type": "stream",
     "text": [
      "valid_loss: 1.961|valid_acc_v: 0.4441|valid_acc_a: 0.6266\n"
     ]
    },
    {
     "name": "stderr",
     "output_type": "stream",
     "text": [
      "  0%|          | 0/345 [00:00<?, ?it/s]"
     ]
    },
    {
     "name": "stdout",
     "output_type": "stream",
     "text": [
      "Epoch: 6\n"
     ]
    },
    {
     "name": "stderr",
     "output_type": "stream",
     "text": [
      "100%|██████████| 345/345 [03:22<00:00,  1.70it/s]\n",
      "  0%|          | 0/38 [00:00<?, ?it/s]"
     ]
    },
    {
     "name": "stdout",
     "output_type": "stream",
     "text": [
      "train_loss: 1.922\n"
     ]
    },
    {
     "name": "stderr",
     "output_type": "stream",
     "text": [
      "100%|██████████| 38/38 [00:22<00:00,  1.68it/s]\n"
     ]
    },
    {
     "name": "stdout",
     "output_type": "stream",
     "text": [
      "valid_loss: 1.998|valid_acc_v: 0.4391|valid_acc_a: 0.6266\n"
     ]
    },
    {
     "name": "stderr",
     "output_type": "stream",
     "text": [
      "  0%|          | 0/345 [00:00<?, ?it/s]"
     ]
    },
    {
     "name": "stdout",
     "output_type": "stream",
     "text": [
      "Epoch: 7\n"
     ]
    },
    {
     "name": "stderr",
     "output_type": "stream",
     "text": [
      "100%|██████████| 345/345 [03:23<00:00,  1.70it/s]\n",
      "  0%|          | 0/38 [00:00<?, ?it/s]"
     ]
    },
    {
     "name": "stdout",
     "output_type": "stream",
     "text": [
      "train_loss: 1.92\n"
     ]
    },
    {
     "name": "stderr",
     "output_type": "stream",
     "text": [
      "100%|██████████| 38/38 [00:22<00:00,  1.69it/s]\n"
     ]
    },
    {
     "name": "stdout",
     "output_type": "stream",
     "text": [
      "valid_loss: 1.983|valid_acc_v: 0.4243|valid_acc_a: 0.6086\n"
     ]
    },
    {
     "name": "stderr",
     "output_type": "stream",
     "text": [
      "  0%|          | 0/345 [00:00<?, ?it/s]"
     ]
    },
    {
     "name": "stdout",
     "output_type": "stream",
     "text": [
      "Epoch: 8\n"
     ]
    },
    {
     "name": "stderr",
     "output_type": "stream",
     "text": [
      "100%|██████████| 345/345 [03:25<00:00,  1.68it/s]\n",
      "  0%|          | 0/38 [00:00<?, ?it/s]"
     ]
    },
    {
     "name": "stdout",
     "output_type": "stream",
     "text": [
      "train_loss: 1.915\n"
     ]
    },
    {
     "name": "stderr",
     "output_type": "stream",
     "text": [
      "100%|██████████| 38/38 [00:22<00:00,  1.72it/s]\n"
     ]
    },
    {
     "name": "stdout",
     "output_type": "stream",
     "text": [
      "valid_loss: 1.955|valid_acc_v: 0.4424|valid_acc_a: 0.6299\n"
     ]
    },
    {
     "name": "stderr",
     "output_type": "stream",
     "text": [
      "  0%|          | 0/345 [00:00<?, ?it/s]"
     ]
    },
    {
     "name": "stdout",
     "output_type": "stream",
     "text": [
      "Epoch: 9\n"
     ]
    },
    {
     "name": "stderr",
     "output_type": "stream",
     "text": [
      "100%|██████████| 345/345 [03:23<00:00,  1.69it/s]\n",
      "  0%|          | 0/38 [00:00<?, ?it/s]"
     ]
    },
    {
     "name": "stdout",
     "output_type": "stream",
     "text": [
      "train_loss: 1.903\n"
     ]
    },
    {
     "name": "stderr",
     "output_type": "stream",
     "text": [
      "100%|██████████| 38/38 [00:21<00:00,  1.79it/s]\n"
     ]
    },
    {
     "name": "stdout",
     "output_type": "stream",
     "text": [
      "valid_loss: 1.984|valid_acc_v: 0.4375|valid_acc_a: 0.6086\n"
     ]
    },
    {
     "name": "stderr",
     "output_type": "stream",
     "text": [
      "  0%|          | 0/345 [00:00<?, ?it/s]"
     ]
    },
    {
     "name": "stdout",
     "output_type": "stream",
     "text": [
      "Epoch: 10\n"
     ]
    },
    {
     "name": "stderr",
     "output_type": "stream",
     "text": [
      "100%|██████████| 345/345 [03:22<00:00,  1.70it/s]\n",
      "  0%|          | 0/38 [00:00<?, ?it/s]"
     ]
    },
    {
     "name": "stdout",
     "output_type": "stream",
     "text": [
      "train_loss: 1.9\n"
     ]
    },
    {
     "name": "stderr",
     "output_type": "stream",
     "text": [
      "100%|██████████| 38/38 [00:23<00:00,  1.62it/s]\n"
     ]
    },
    {
     "name": "stdout",
     "output_type": "stream",
     "text": [
      "valid_loss: 1.956|valid_acc_v: 0.4556|valid_acc_a: 0.6102\n"
     ]
    }
   ],
   "source": [
    "# train\n",
    "\n",
    "max_epoch = 10\n",
    "best_acc_v = 0.\n",
    "best_acc_a = 0.\n",
    "valid_accs_v = []\n",
    "valid_accs_a = []\n",
    "valid_losses = []\n",
    "lowest_val_loss = np.inf\n",
    "lr = 3e-4\n",
    "\n",
    "class_weights_v = torch.FloatTensor(weights_v).to(device)\n",
    "class_weights_a = torch.FloatTensor(weights_a).to(device)\n",
    "\n",
    "criterion_v = nn.CrossEntropyLoss(weight=class_weights_v)\n",
    "criterion_a = nn.CrossEntropyLoss(weight=class_weights_a)\n",
    "\n",
    "optimizer = torch.optim.Adam(filter(lambda p: p.requires_grad, model.parameters()),\n",
    "                             lr=lr, betas=(0.9, 0.999), eps=1e-08, weight_decay=0., amsgrad=True)\n",
    "\n",
    "\n",
    "for epoch in range(1, max_epoch+1):\n",
    "    print('Epoch:', epoch)\n",
    "    loss_history = []\n",
    "    model.train()\n",
    "    for img, target,target1 in tqdm(train_dl):\n",
    "        img = img.to(device)\n",
    "        target = target.to(device)\n",
    "        target1 = target1.to(device)\n",
    "        \n",
    "        output = model(img)\n",
    "        \n",
    "        loss_v = criterion_v(output[0], target)\n",
    "        \n",
    "        loss_a = criterion_a(output[1], target1)\n",
    "        \n",
    "        loss = loss_v + loss_a\n",
    "        \n",
    "        optimizer.zero_grad()\n",
    "        loss.backward()\n",
    "        optimizer.step()\n",
    "        \n",
    "        loss_history.append(float(loss))\n",
    "    \n",
    "    print('train_loss: {:.4}'.format(torch.mean(torch.Tensor(loss_history))))\n",
    "    \n",
    "    loss_history = []\n",
    "    acc_history_v = []\n",
    "    acc_history_a = []\n",
    "    model.eval()\n",
    "    for img, target, target1 in tqdm(val_dl):\n",
    "        img = img.to(device)\n",
    "        target = target.to(device)\n",
    "        target1 = target1.to(device)\n",
    "        \n",
    "        output = model(img)\n",
    "        \n",
    "        loss_v = criterion_v(output[0], target)\n",
    "        \n",
    "        loss_a = criterion_a(output[1], target1)\n",
    "        \n",
    "        loss = loss_v + loss_a\n",
    "        \n",
    "        valence = output[0]\n",
    "        arousal = output[1]\n",
    "        \n",
    "        acc_v = calculat_acc(valence, target)\n",
    "        acc_history_v.append(float(acc_v))\n",
    "        \n",
    "        acc_a = calculat_acc(arousal, target1)\n",
    "        acc_history_a.append(float(acc_a))\n",
    "        \n",
    "        loss_history.append(float(loss))\n",
    "\n",
    "    print('valid_loss: {:.4}|valid_acc_v: {:.4}|valid_acc_a: {:.4}'.format(\n",
    "            torch.mean(torch.Tensor(loss_history)),\n",
    "            torch.mean(torch.Tensor(acc_history_v)),\n",
    "            torch.mean(torch.Tensor(acc_history_a)),\n",
    "            ))\n",
    "    \n",
    "    valid_acc_v = torch.mean(torch.Tensor(acc_history_v))\n",
    "    valid_acc_a = torch.mean(torch.Tensor(acc_history_a))\n",
    "    valid_loss =  torch.mean(torch.Tensor(loss_history))\n",
    "    \n",
    "    valid_accs_v.append(valid_acc_v)\n",
    "    valid_accs_a.append(valid_acc_a)\n",
    "    valid_losses.append(valid_loss)\n",
    "    \n",
    "    torch.save(model.state_dict(), 'visual-cnn_%d.pth' % (epoch), _use_new_zipfile_serialization=False)"
   ]
  },
  {
   "cell_type": "code",
   "execution_count": 43,
   "metadata": {
    "execution": {
     "iopub.execute_input": "2020-11-11T10:18:58.294304Z",
     "iopub.status.busy": "2020-11-11T10:18:58.293387Z",
     "iopub.status.idle": "2020-11-11T10:18:58.465185Z",
     "shell.execute_reply": "2020-11-11T10:18:58.465764Z"
    },
    "papermill": {
     "duration": 1.595205,
     "end_time": "2020-11-11T10:18:58.465914",
     "exception": false,
     "start_time": "2020-11-11T10:18:56.870709",
     "status": "completed"
    },
    "tags": []
   },
   "outputs": [
    {
     "data": {
      "image/png": "[encoded data removed]",
      "text/plain": [
       "<Figure size 432x288 with 1 Axes>"
      ]
     },
     "metadata": {
      "needs_background": "light"
     },
     "output_type": "display_data"
    }
   ],
   "source": [
    "# vis accuracy\n",
    "valid_accs_v = [i.item() for i in valid_accs_v]\n",
    "valid_accs_a = [i.item() for i in valid_accs_a]\n",
    "plt.title(\"Val Accuracy\")\n",
    "plt.plot(range(1,epoch+1), valid_accs_v, label='Valence')\n",
    "plt.plot(range(1,epoch+1), valid_accs_a, label='Arousal')\n",
    "plt.ylabel(\"Accuracy\")\n",
    "plt.xlabel(\"Training Epochs\")\n",
    "plt.legend()\n",
    "plt.show()"
   ]
  },
  {
   "cell_type": "code",
   "execution_count": 44,
   "metadata": {
    "execution": {
     "iopub.execute_input": "2020-11-11T10:19:01.666094Z",
     "iopub.status.busy": "2020-11-11T10:19:01.664906Z",
     "iopub.status.idle": "2020-11-11T10:19:01.673054Z",
     "shell.execute_reply": "2020-11-11T10:19:01.667304Z"
    },
    "papermill": {
     "duration": 1.510203,
     "end_time": "2020-11-11T10:19:01.673220",
     "exception": false,
     "start_time": "2020-11-11T10:19:00.163017",
     "status": "completed"
    },
    "tags": []
   },
   "outputs": [
    {
     "data": {
      "text/plain": [
       "(0.4555920958518982, 0.6381579041481018)"
      ]
     },
     "execution_count": 44,
     "metadata": {},
     "output_type": "execute_result"
    }
   ],
   "source": [
    "max(valid_accs_v), max(valid_accs_a)"
   ]
  },
  {
   "cell_type": "code",
   "execution_count": 45,
   "metadata": {
    "execution": {
     "iopub.execute_input": "2020-11-11T10:19:04.560478Z",
     "iopub.status.busy": "2020-11-11T10:19:04.553705Z",
     "iopub.status.idle": "2020-11-11T10:19:04.721011Z",
     "shell.execute_reply": "2020-11-11T10:19:04.721862Z"
    },
    "papermill": {
     "duration": 1.584442,
     "end_time": "2020-11-11T10:19:04.722055",
     "exception": false,
     "start_time": "2020-11-11T10:19:03.137613",
     "status": "completed"
    },
    "tags": []
   },
   "outputs": [
    {
     "data": {
      "image/png": "[encoded data removed]",
      "text/plain": [
       "<Figure size 432x288 with 1 Axes>"
      ]
     },
     "metadata": {
      "needs_background": "light"
     },
     "output_type": "display_data"
    }
   ],
   "source": [
    "# vis loss\n",
    "valid_losses = [i.item() for i in valid_losses]\n",
    "plt.title(\"Val Loss\")\n",
    "plt.plot(range(1, epoch+1), valid_losses)\n",
    "plt.ylabel(\"Loss\")\n",
    "plt.xlabel(\"Training Epochs\")\n",
    "plt.show()"
   ]
  },
  {
   "cell_type": "markdown",
   "metadata": {
    "papermill": {
     "duration": 1.410926,
     "end_time": "2020-11-11T10:19:07.720573",
     "exception": false,
     "start_time": "2020-11-11T10:19:06.309647",
     "status": "completed"
    },
    "tags": []
   },
   "source": [
    "# test"
   ]
  },
  {
   "cell_type": "code",
   "execution_count": 46,
   "metadata": {
    "execution": {
     "iopub.execute_input": "2020-11-11T10:19:10.750797Z",
     "iopub.status.busy": "2020-11-11T10:19:10.748830Z",
     "iopub.status.idle": "2020-11-11T10:45:28.887087Z",
     "shell.execute_reply": "2020-11-11T10:45:28.888403Z"
    },
    "papermill": {
     "duration": 1579.77402,
     "end_time": "2020-11-11T10:45:28.888647",
     "exception": false,
     "start_time": "2020-11-11T10:19:09.114627",
     "status": "completed"
    },
    "tags": []
   },
   "outputs": [
    {
     "name": "stdout",
     "output_type": "stream",
     "text": [
      "Test Accuracy:\n",
      "Epoch: 1\n"
     ]
    },
    {
     "name": "stderr",
     "output_type": "stream",
     "text": [
      "100%|██████████| 297/297 [02:41<00:00,  1.84it/s]\n"
     ]
    },
    {
     "name": "stdout",
     "output_type": "stream",
     "text": [
      "Valence Video Test Accuracy: 0.3859427609427609\n",
      "Arousal Video Test Accuracy: 0.5553451178451179\n",
      "Epoch: 2\n"
     ]
    },
    {
     "name": "stderr",
     "output_type": "stream",
     "text": [
      "100%|██████████| 297/297 [02:34<00:00,  1.93it/s]\n"
     ]
    },
    {
     "name": "stdout",
     "output_type": "stream",
     "text": [
      "Valence Video Test Accuracy: 0.4255050505050505\n",
      "Arousal Video Test Accuracy: 0.5553451178451179\n",
      "Epoch: 3\n"
     ]
    },
    {
     "name": "stderr",
     "output_type": "stream",
     "text": [
      "100%|██████████| 297/297 [02:37<00:00,  1.89it/s]\n"
     ]
    },
    {
     "name": "stdout",
     "output_type": "stream",
     "text": [
      "Valence Video Test Accuracy: 0.41835016835016836\n",
      "Arousal Video Test Accuracy: 0.5637626262626263\n",
      "Epoch: 4\n"
     ]
    },
    {
     "name": "stderr",
     "output_type": "stream",
     "text": [
      "100%|██████████| 297/297 [02:37<00:00,  1.89it/s]\n"
     ]
    },
    {
     "name": "stdout",
     "output_type": "stream",
     "text": [
      "Valence Video Test Accuracy: 0.42908249158249157\n",
      "Arousal Video Test Accuracy: 0.5629208754208754\n",
      "Epoch: 5\n"
     ]
    },
    {
     "name": "stderr",
     "output_type": "stream",
     "text": [
      "100%|██████████| 297/297 [02:35<00:00,  1.91it/s]\n"
     ]
    },
    {
     "name": "stdout",
     "output_type": "stream",
     "text": [
      "Valence Video Test Accuracy: 0.4375\n",
      "Arousal Video Test Accuracy: 0.5555555555555556\n",
      "Epoch: 6\n"
     ]
    },
    {
     "name": "stderr",
     "output_type": "stream",
     "text": [
      "100%|██████████| 297/297 [02:32<00:00,  1.94it/s]\n"
     ]
    },
    {
     "name": "stdout",
     "output_type": "stream",
     "text": [
      "Valence Video Test Accuracy: 0.4335016835016835\n",
      "Arousal Video Test Accuracy: 0.5641835016835017\n",
      "Epoch: 7\n"
     ]
    },
    {
     "name": "stderr",
     "output_type": "stream",
     "text": [
      "100%|██████████| 297/297 [02:33<00:00,  1.94it/s]\n"
     ]
    },
    {
     "name": "stdout",
     "output_type": "stream",
     "text": [
      "Valence Video Test Accuracy: 0.41435185185185186\n",
      "Arousal Video Test Accuracy: 0.5574494949494949\n",
      "Epoch: 8\n"
     ]
    },
    {
     "name": "stderr",
     "output_type": "stream",
     "text": [
      "100%|██████████| 297/297 [02:33<00:00,  1.94it/s]\n"
     ]
    },
    {
     "name": "stdout",
     "output_type": "stream",
     "text": [
      "Valence Video Test Accuracy: 0.4436026936026936\n",
      "Arousal Video Test Accuracy: 0.564604377104377\n",
      "Epoch: 9\n"
     ]
    },
    {
     "name": "stderr",
     "output_type": "stream",
     "text": [
      "100%|██████████| 297/297 [02:34<00:00,  1.93it/s]\n"
     ]
    },
    {
     "name": "stdout",
     "output_type": "stream",
     "text": [
      "Valence Video Test Accuracy: 0.4252946127946128\n",
      "Arousal Video Test Accuracy: 0.5513468013468014\n",
      "Epoch: 10\n"
     ]
    },
    {
     "name": "stderr",
     "output_type": "stream",
     "text": [
      "100%|██████████| 297/297 [02:32<00:00,  1.95it/s]"
     ]
    },
    {
     "name": "stdout",
     "output_type": "stream",
     "text": [
      "Valence Video Test Accuracy: 0.44675925925925924\n",
      "Arousal Video Test Accuracy: 0.5635521885521886\n"
     ]
    },
    {
     "name": "stderr",
     "output_type": "stream",
     "text": [
      "\n"
     ]
    }
   ],
   "source": [
    "print('Test Accuracy:')\n",
    "for epoch in range(1, max_epoch + 1):\n",
    "\n",
    "    print('Epoch:', epoch)\n",
    "    model = Visual_CNN()\n",
    "    model.to(device)\n",
    "    \n",
    "    net_weights = torch.load('visual-cnn_%d.pth' % (epoch))\n",
    "    model.load_state_dict(net_weights)\n",
    "    model.eval()\n",
    "\n",
    "    acc = 0.\n",
    "    acc1 = 0.\n",
    "    acc2 = 0.\n",
    "    i = 0\n",
    "\n",
    "    for data, label, label1 in tqdm(test_dl):\n",
    "        img = data.to(device)\n",
    "        label = label.to(device)\n",
    "        label1 = label1.to(device)\n",
    "\n",
    "        output = model(img)\n",
    "\n",
    "        valence = output[0]\n",
    "        arousal = output[1]\n",
    "\n",
    "        output1 = nn.functional.softmax(valence, dim=1)\n",
    "        output1 = torch.argmax(output1, dim=1)\n",
    "\n",
    "        acc += (output1 == label).float().mean().item()\n",
    "\n",
    "        output2 = nn.functional.softmax(arousal, dim=1)\n",
    "        output2 = torch.argmax(output2, dim=1)\n",
    "\n",
    "        acc1 += (output2 == label1).float().mean().item()\n",
    "\n",
    "        i += 1\n",
    "\n",
    "    print('Valence Video Test Accuracy:', acc / i)\n",
    "    print('Arousal Video Test Accuracy:', acc1 / i)\n",
    "\n",
    "    del model\n",
    "    torch.cuda.empty_cache()"
   ]
  },
  {
   "cell_type": "code",
   "execution_count": null,
   "metadata": {
    "papermill": {
     "duration": 2.916572,
     "end_time": "2020-11-11T10:45:34.187070",
     "exception": false,
     "start_time": "2020-11-11T10:45:31.270498",
     "status": "completed"
    },
    "tags": []
   },
   "outputs": [],
   "source": []
  }
 ],
 "metadata": {
  "kernelspec": {
   "display_name": "Python 3",
   "language": "python",
   "name": "python3"
  },
  "language_info": {
   "codemirror_mode": {
    "name": "ipython",
    "version": 3
   },
   "file_extension": ".py",
   "mimetype": "text/x-python",
   "name": "python",
   "nbconvert_exporter": "python",
   "pygments_lexer": "ipython3",
   "version": "3.7.6"
  },
  "papermill": {
   "duration": 3940.571385,
   "end_time": "2020-11-11T10:45:38.664371",
   "environment_variables": {},
   "exception": null,
   "input_path": "__notebook__.ipynb",
   "output_path": "__notebook__.ipynb",
   "parameters": {},
   "start_time": "2020-11-11T09:39:58.092986",
   "version": "2.1.0"
  },
  "widgets": {
   "application/vnd.jupyter.widget-state+json": {
    "state": {
     "07cff5bac90e4e76945cd6c34045fd87": {
      "model_module": "@jupyter-widgets/controls",
      "model_module_version": "1.5.0",
      "model_name": "DescriptionStyleModel",
      "state": {
       "_model_module": "@jupyter-widgets/controls",
       "_model_module_version": "1.5.0",
       "_model_name": "DescriptionStyleModel",
       "_view_count": null,
       "_view_module": "@jupyter-widgets/base",
       "_view_module_version": "1.2.0",
       "_view_name": "StyleView",
       "description_width": ""
      }
     },
     "0b5a0d20d03049f8b4a2b024e2d234a3": {
      "model_module": "@jupyter-widgets/controls",
      "model_module_version": "1.5.0",
      "model_name": "HBoxModel",
      "state": {
       "_dom_classes": [],
       "_model_module": "@jupyter-widgets/controls",
       "_model_module_version": "1.5.0",
       "_model_name": "HBoxModel",
       "_view_count": null,
       "_view_module": "@jupyter-widgets/controls",
       "_view_module_version": "1.5.0",
       "_view_name": "HBoxView",
       "box_style": "",
       "children": [
        "IPY_MODEL_54cbf5dcc19e49f696ab78edd5e3030f",
        "IPY_MODEL_38b9208263ab4a099405a5d630c6f7cd"
       ],
       "layout": "IPY_MODEL_ec5ce37293e545929d58f88a4ee038c5"
      }
     },
     "234fe487383640c1a27268f8981da005": {
      "model_module": "@jupyter-widgets/controls",
      "model_module_version": "1.5.0",
      "model_name": "ProgressStyleModel",
      "state": {
       "_model_module": "@jupyter-widgets/controls",
       "_model_module_version": "1.5.0",
       "_model_name": "ProgressStyleModel",
       "_view_count": null,
       "_view_module": "@jupyter-widgets/base",
       "_view_module_version": "1.2.0",
       "_view_name": "StyleView",
       "bar_color": null,
       "description_width": "initial"
      }
     },
     "38b9208263ab4a099405a5d630c6f7cd": {
      "model_module": "@jupyter-widgets/controls",
      "model_module_version": "1.5.0",
      "model_name": "HTMLModel",
      "state": {
       "_dom_classes": [],
       "_model_module": "@jupyter-widgets/controls",
       "_model_module_version": "1.5.0",
       "_model_name": "HTMLModel",
       "_view_count": null,
       "_view_module": "@jupyter-widgets/controls",
       "_view_module_version": "1.5.0",
       "_view_name": "HTMLView",
       "description": "",
       "description_tooltip": null,
       "layout": "IPY_MODEL_3cd0a99a0dbe4878a8dfd6ae4f4d0c33",
       "placeholder": "​",
       "style": "IPY_MODEL_07cff5bac90e4e76945cd6c34045fd87",
       "value": " 170M/170M [00:03&lt;00:00, 45.4MB/s]"
      }
     },
     "3cd0a99a0dbe4878a8dfd6ae4f4d0c33": {
      "model_module": "@jupyter-widgets/base",
      "model_module_version": "1.2.0",
      "model_name": "LayoutModel",
      "state": {
       "_model_module": "@jupyter-widgets/base",
       "_model_module_version": "1.2.0",
       "_model_name": "LayoutModel",
       "_view_count": null,
       "_view_module": "@jupyter-widgets/base",
       "_view_module_version": "1.2.0",
       "_view_name": "LayoutView",
       "align_content": null,
       "align_items": null,
       "align_self": null,
       "border": null,
       "bottom": null,
       "display": null,
       "flex": null,
       "flex_flow": null,
       "grid_area": null,
       "grid_auto_columns": null,
       "grid_auto_flow": null,
       "grid_auto_rows": null,
       "grid_column": null,
       "grid_gap": null,
       "grid_row": null,
       "grid_template_areas": null,
       "grid_template_columns": null,
       "grid_template_rows": null,
       "height": null,
       "justify_content": null,
       "justify_items": null,
       "left": null,
       "margin": null,
       "max_height": null,
       "max_width": null,
       "min_height": null,
       "min_width": null,
       "object_fit": null,
       "object_position": null,
       "order": null,
       "overflow": null,
       "overflow_x": null,
       "overflow_y": null,
       "padding": null,
       "right": null,
       "top": null,
       "visibility": null,
       "width": null
      }
     },
     "4a0a1b0afa7044028dd8e7711ba2b35c": {
      "model_module": "@jupyter-widgets/base",
      "model_module_version": "1.2.0",
      "model_name": "LayoutModel",
      "state": {
       "_model_module": "@jupyter-widgets/base",
       "_model_module_version": "1.2.0",
       "_model_name": "LayoutModel",
       "_view_count": null,
       "_view_module": "@jupyter-widgets/base",
       "_view_module_version": "1.2.0",
       "_view_name": "LayoutView",
       "align_content": null,
       "align_items": null,
       "align_self": null,
       "border": null,
       "bottom": null,
       "display": null,
       "flex": null,
       "flex_flow": null,
       "grid_area": null,
       "grid_auto_columns": null,
       "grid_auto_flow": null,
       "grid_auto_rows": null,
       "grid_column": null,
       "grid_gap": null,
       "grid_row": null,
       "grid_template_areas": null,
       "grid_template_columns": null,
       "grid_template_rows": null,
       "height": null,
       "justify_content": null,
       "justify_items": null,
       "left": null,
       "margin": null,
       "max_height": null,
       "max_width": null,
       "min_height": null,
       "min_width": null,
       "object_fit": null,
       "object_position": null,
       "order": null,
       "overflow": null,
       "overflow_x": null,
       "overflow_y": null,
       "padding": null,
       "right": null,
       "top": null,
       "visibility": null,
       "width": null
      }
     },
     "54cbf5dcc19e49f696ab78edd5e3030f": {
      "model_module": "@jupyter-widgets/controls",
      "model_module_version": "1.5.0",
      "model_name": "FloatProgressModel",
      "state": {
       "_dom_classes": [],
       "_model_module": "@jupyter-widgets/controls",
       "_model_module_version": "1.5.0",
       "_model_name": "FloatProgressModel",
       "_view_count": null,
       "_view_module": "@jupyter-widgets/controls",
       "_view_module_version": "1.5.0",
       "_view_name": "ProgressView",
       "bar_style": "success",
       "description": "100%",
       "description_tooltip": null,
       "layout": "IPY_MODEL_4a0a1b0afa7044028dd8e7711ba2b35c",
       "max": 178728960.0,
       "min": 0.0,
       "orientation": "horizontal",
       "style": "IPY_MODEL_234fe487383640c1a27268f8981da005",
       "value": 178728960.0
      }
     },
     "ec5ce37293e545929d58f88a4ee038c5": {
      "model_module": "@jupyter-widgets/base",
      "model_module_version": "1.2.0",
      "model_name": "LayoutModel",
      "state": {
       "_model_module": "@jupyter-widgets/base",
       "_model_module_version": "1.2.0",
       "_model_name": "LayoutModel",
       "_view_count": null,
       "_view_module": "@jupyter-widgets/base",
       "_view_module_version": "1.2.0",
       "_view_name": "LayoutView",
       "align_content": null,
       "align_items": null,
       "align_self": null,
       "border": null,
       "bottom": null,
       "display": null,
       "flex": null,
       "flex_flow": null,
       "grid_area": null,
       "grid_auto_columns": null,
       "grid_auto_flow": null,
       "grid_auto_rows": null,
       "grid_column": null,
       "grid_gap": null,
       "grid_row": null,
       "grid_template_areas": null,
       "grid_template_columns": null,
       "grid_template_rows": null,
       "height": null,
       "justify_content": null,
       "justify_items": null,
       "left": null,
       "margin": null,
       "max_height": null,
       "max_width": null,
       "min_height": null,
       "min_width": null,
       "object_fit": null,
       "object_position": null,
       "order": null,
       "overflow": null,
       "overflow_x": null,
       "overflow_y": null,
       "padding": null,
       "right": null,
       "top": null,
       "visibility": null,
       "width": null
      }
     }
    },
    "version_major": 2,
    "version_minor": 0
   }
  }
 },
 "nbformat": 4,
 "nbformat_minor": 4
}
